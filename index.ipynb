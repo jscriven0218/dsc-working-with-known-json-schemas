{
  "cells": [
    {
      "cell_type": "markdown",
      "metadata": {
        "id": "PiEm8N8krXh7"
      },
      "source": [
        "# Working with Known JSON Schemas\n",
        "\n",
        "## Introduction\n",
        "You've started taking a look at JSON files and you'll continue to explore how to navigate and traverse these files. One common use case of JSON files will be when you are connecting to various websites through their established APIs to retrieve data from them. With these, you are typically given a schema for how the data is structured and then will use this knowledge to retrieve pertinent information.\n",
        "\n",
        "## Objectives\n",
        "\n",
        "You will be able to:\n",
        "\n",
        "* Use the JSON module to load and parse JSON documents\n",
        "* Extract data using predefined JSON schemas\n",
        "* Convert JSON to a pandas DataFrame\n",
        "\n",
        "## Reading a JSON Schema\n",
        "\n",
        "In this lesson, you'll take a look at the response from the New York Times API. The general idea is that the New York Times makes some of its data available over the web, and it uses the JSON format to do so.\n",
        "\n",
        "Here's the JSON schema provided for a section of the NY Times API:\n",
        "<img src=\"https://github.com/jscriven0218/dsc-working-with-known-json-schemas/blob/master/images/schema_overview.png?raw=1\" width=\"400\">\n",
        "\n",
        "or a more detailed view (truncated):\n",
        "\n",
        "<img src=\"https://github.com/jscriven0218/dsc-working-with-known-json-schemas/blob/master/images/schema_detailed.png?raw=1\" width=\"500\">"
      ]
    },
    {
      "cell_type": "markdown",
      "metadata": {
        "id": "PjXQOqENrXh9"
      },
      "source": [
        "You can see that the master structure is a dictionary and has a key named `'response'`. The value associated with the `'response'` key is also a dictionary and has two keys: `'docs'` and `'meta'`. As you continue to examine the schema hierarchy, you'll notice the vast majority of the elements comprising this data structure, in this case, are dictionaries."
      ]
    },
    {
      "cell_type": "markdown",
      "metadata": {
        "id": "67foHCr3rXh9"
      },
      "source": [
        "## Loading the Data File\n",
        "\n",
        "As we have done in previous lessons, let's start by importing this data from the file. The code below uses the `json` module ([documentation here](https://docs.python.org/3/library/json.html)) and built-in `open` function to load the data from a JSON file into a Python object called `data`.\n",
        "\n",
        "> In the cell below, first import the json library, then type the following code to load the file and assign it to the variable `data`:\n",
        "\n",
        "```\n",
        "with open('ny_times_response.json', 'r') as f:\n",
        "    data = json.load(f)\n",
        "```"
      ]
    },
    {
      "cell_type": "code",
      "execution_count": 1,
      "metadata": {
        "id": "vJMbkq6SrXh9"
      },
      "outputs": [],
      "source": [
        "import json\n",
        "with open('ny_times_response.json', 'r') as f:\n",
        "    data = json.load(f)"
      ]
    },
    {
      "cell_type": "markdown",
      "metadata": {
        "id": "ZuqZEV7xrXh-"
      },
      "source": [
        "Now we can inspect what we loaded with some tools we are already familiar with.\n",
        "> In the cell below, use the `type()` function to print the data type of the loaded file `data`, then print the keys of the file using the `keys()` method."
      ]
    },
    {
      "cell_type": "code",
      "execution_count": 2,
      "metadata": {
        "id": "mF2xo-etrXh-",
        "outputId": "06e07720-17b6-47e6-d8bc-67088ae37f3c",
        "colab": {
          "base_uri": "https://localhost:8080/"
        }
      },
      "outputs": [
        {
          "output_type": "stream",
          "name": "stdout",
          "text": [
            "<class 'dict'>\n"
          ]
        },
        {
          "output_type": "execute_result",
          "data": {
            "text/plain": [
              "dict_keys(['status', 'copyright', 'response'])"
            ]
          },
          "metadata": {},
          "execution_count": 2
        }
      ],
      "source": [
        "print(type(data))\n",
        "\n",
        "data.keys()"
      ]
    },
    {
      "cell_type": "code",
      "execution_count": null,
      "metadata": {
        "id": "Xjyf1fG9rXh-"
      },
      "outputs": [],
      "source": [
        "# -EXPECTED OUTPUT-\n",
        "# <class 'dict'>\n",
        "# dict_keys(['status', 'copyright', 'response'])"
      ]
    },
    {
      "cell_type": "markdown",
      "metadata": {
        "id": "L2JFoKTarXh-"
      },
      "source": [
        "You should see that there are two additional keys `'status'` and `'copyright'` which were not shown in the schema documentation. As with most forms of documentation, it's important to be aware that published schemas may differ somewhat from the actual data, and your code should be able to handle these unexpected differences, within reason."
      ]
    },
    {
      "cell_type": "markdown",
      "metadata": {
        "id": "C2I-RuflrXh-"
      },
      "source": [
        "## Loading Specific Data\n",
        "\n",
        "Looking at the schema, you might be interested in retrieving a specific piece of data, such as the articles' headlines. Notice that this is a key under `'docs'`, which is under `'response'`. So the schema is roughly: data --> 'response' --> 'docs' --> 'headline', something like `data['response']['docs']['headline']`.\n",
        "\n",
        "Let's see what happens if we try that:\n",
        "\n",
        "> In the cell below, type the following code to retreive the data:\n",
        "```\n",
        "data['response']['docs']['headline']\n",
        "```"
      ]
    },
    {
      "cell_type": "code",
      "execution_count": 3,
      "metadata": {
        "id": "BVawCTewrXh-",
        "outputId": "aa2f6c37-63aa-4a34-d7de-24d90cdb9ab1",
        "colab": {
          "base_uri": "https://localhost:8080/",
          "height": 141
        }
      },
      "outputs": [
        {
          "output_type": "error",
          "ename": "TypeError",
          "evalue": "list indices must be integers or slices, not str",
          "traceback": [
            "\u001b[0;31m---------------------------------------------------------------------------\u001b[0m",
            "\u001b[0;31mTypeError\u001b[0m                                 Traceback (most recent call last)",
            "\u001b[0;32m<ipython-input-3-a26674dfb096>\u001b[0m in \u001b[0;36m<cell line: 1>\u001b[0;34m()\u001b[0m\n\u001b[0;32m----> 1\u001b[0;31m \u001b[0mdata\u001b[0m\u001b[0;34m[\u001b[0m\u001b[0;34m'response'\u001b[0m\u001b[0;34m]\u001b[0m\u001b[0;34m[\u001b[0m\u001b[0;34m'docs'\u001b[0m\u001b[0;34m]\u001b[0m\u001b[0;34m[\u001b[0m\u001b[0;34m'headline'\u001b[0m\u001b[0;34m]\u001b[0m\u001b[0;34m\u001b[0m\u001b[0;34m\u001b[0m\u001b[0m\n\u001b[0m",
            "\u001b[0;31mTypeError\u001b[0m: list indices must be integers or slices, not str"
          ]
        }
      ],
      "source": [
        "data['response']['docs']['headline']"
      ]
    },
    {
      "cell_type": "code",
      "execution_count": null,
      "metadata": {
        "id": "qHJ30n19rXh-"
      },
      "outputs": [],
      "source": [
        "# -EXPECTED OUTPUT-\n",
        "\"\"\"\n",
        "---------------------------------------------------------------------------\n",
        "TypeError                                 Traceback (most recent call last)\n",
        "<ipython-input-3-0cb4d3140f8a> in <module>\n",
        "      1 # replace this comment with the code to show the contents of data->response->docs->headline\n",
        "----> 2 data['response']['docs']['headline']\n",
        "\n",
        "TypeError: list indices must be integers or slices, not str\n",
        "\"\"\""
      ]
    },
    {
      "cell_type": "markdown",
      "metadata": {
        "id": "Wikn-mGErXh_"
      },
      "source": [
        "Ok, this error message is saying that somewhere along the way, **we treated something like a dictionary when it was actually a list**. Let's break down that chain of commands to figure out what went wrong.\n",
        "\n",
        "We are pretty sure that `data['response']` will not cause an error, since we already checked that `data` is type `dict`, and that `'response'` is one of the keys. But what is the type of `data['response']`?"
      ]
    },
    {
      "cell_type": "code",
      "execution_count": 4,
      "metadata": {
        "id": "0UG6dM9BrXh_",
        "outputId": "f57a05de-831c-4624-8ab8-3ca474b649f7",
        "colab": {
          "base_uri": "https://localhost:8080/"
        }
      },
      "outputs": [
        {
          "output_type": "execute_result",
          "data": {
            "text/plain": [
              "dict"
            ]
          },
          "metadata": {},
          "execution_count": 4
        }
      ],
      "source": [
        "type(data['response'])"
      ]
    },
    {
      "cell_type": "code",
      "execution_count": null,
      "metadata": {
        "id": "-6e3SEFzrXh_"
      },
      "outputs": [],
      "source": [
        "# -EXPECTED OUTPUT-\n",
        "# dict"
      ]
    },
    {
      "cell_type": "markdown",
      "metadata": {
        "id": "e3A2FT7crXh_"
      },
      "source": [
        "Ok, that's a dictionary, too. How about `data['response']['docs']`?"
      ]
    },
    {
      "cell_type": "code",
      "execution_count": 5,
      "metadata": {
        "id": "euNpLD47rXh_",
        "outputId": "10c7c653-8afc-4d14-d377-7b58d73e3b0e",
        "colab": {
          "base_uri": "https://localhost:8080/"
        }
      },
      "outputs": [
        {
          "output_type": "execute_result",
          "data": {
            "text/plain": [
              "list"
            ]
          },
          "metadata": {},
          "execution_count": 5
        }
      ],
      "source": [
        "type(data['response']['docs'])"
      ]
    },
    {
      "cell_type": "code",
      "execution_count": null,
      "metadata": {
        "id": "-hPyA2DlrXh_"
      },
      "outputs": [],
      "source": [
        "# -EXPECTED OUTPUT-\n",
        "# list"
      ]
    },
    {
      "cell_type": "markdown",
      "metadata": {
        "id": "1D3lj79HrXh_"
      },
      "source": [
        "So, that is the source of the error. We tried to treat this as a dictionary (accessing the value associated with the key `'headline'`) but it's a list.\n",
        "\n",
        "If you scroll back up to the schema pictured above, this makes sense. The value associated with the `'docs'` key is shown surrounded by `[` and `]`, right before the `{` and `}`, indicating that this is a *list* of dictionaries, not just a dictionary.\n",
        "\n",
        "You'll run into this kind of distinction repeatedly when working with JSON data. Sometimes values will be nested in unexpected ways, or you'll miss a key detail when you're skimming the schema. What's most important is that you're able to keep going and figure out what went wrong, not that you get it right on the first try.\n",
        "\n",
        "Now that we know that this is a list, let's extract it and print out some more information about it:\n",
        "\n",
        "> In the cell below, extract the data in `data['response']['docs']` and assign it to the variable `docs`.  Then display the following information about it:\n",
        " - the data type using `type()`\n",
        " - the length using `len()`\n",
        " - the contents of the first element of the list using the index `[0]`\n",
        " Try to make your output match the _-EXPECTED OUTPUT-_, we will help with the first line:\n",
        " ```\n",
        " print(\"`docs` is a data structure of type\", type(docs))\n",
        " ```\n",
        " or\n",
        " ```\n",
        " print(f\"`docs` is a data structure of type {type(docs)}\")\n",
        " ```"
      ]
    },
    {
      "cell_type": "code",
      "execution_count": 8,
      "metadata": {
        "collapsed": true,
        "id": "tho_TJ6JrXh_",
        "outputId": "ace83cf6-4421-4596-eb99-b972e783ae2d",
        "colab": {
          "base_uri": "https://localhost:8080/"
        }
      },
      "outputs": [
        {
          "output_type": "stream",
          "name": "stdout",
          "text": [
            "`docs` is a data structure of type <class 'list'>\n",
            "It contains 9 elements\n",
            "The first element is type <class 'dict'>\n"
          ]
        }
      ],
      "source": [
        "docs = data['response']['docs']\n",
        "print(\"`docs` is a data structure of type\", type(docs))\n",
        "print(\"It contains\", len(docs), \"elements\")\n",
        "print(\"The first element is type\", type(docs[0]))\n",
        "\n",
        "\n",
        "# replace this comment with the code to print the data type of `docs`\n",
        "# replace this comment with the code to print the length\n",
        "# replace this comment with the code to print the data type of the first element"
      ]
    },
    {
      "cell_type": "code",
      "execution_count": null,
      "metadata": {
        "id": "guUdU8arrXh_"
      },
      "outputs": [],
      "source": [
        "# -EXPECTED OUTPUT-\n",
        "# `docs` is a data structure of type <class 'list'>\n",
        "# It contains 9 elements\n",
        "# The first element is type <class 'dict'>"
      ]
    },
    {
      "cell_type": "markdown",
      "metadata": {
        "id": "MEKWVbrVrXiA"
      },
      "source": [
        "This confirms what we expected. Now we can loop over that list of dictionaries and print the values associated with the `'headline'` keys:\n",
        "\n",
        "> In the following cell write a for loop or list comprehension to display each element one by one.  To do this use one of the following code blocks:  \n",
        "\n",
        "with a for loop:\n",
        "```\n",
        "for doc in docs:\n",
        "    print(doc['headline'])\n",
        "```\n",
        "or with list comprehension:\n",
        "```\n",
        "print([doc['headline'] for doc in docs])\n",
        "```"
      ]
    },
    {
      "cell_type": "code",
      "execution_count": 9,
      "metadata": {
        "id": "l6K3f4HCrXiA",
        "outputId": "dafa7f03-5691-4d64-9ce3-d89c47ecd5a0",
        "colab": {
          "base_uri": "https://localhost:8080/"
        }
      },
      "outputs": [
        {
          "output_type": "stream",
          "name": "stdout",
          "text": [
            "[{'main': \"HIGGINS, SPENT $22,189.53.; Governor-Elect's Election Expenses -- Harrison $9,220.28.\", 'kicker': None, 'content_kicker': None, 'print_headline': None, 'name': None, 'seo': None, 'sub': None}, {'main': 'GARDEN BOUTS CANCELED; Mauriello Says He Could Not Be Ready on Nov. 3', 'kicker': '1', 'content_kicker': None, 'print_headline': None, 'name': None, 'seo': None, 'sub': None}, {'main': 'Stock Drop Is Biggest in 2 Months--Margin Rise Held Factor in Lightest Trading of 1955', 'kicker': '1', 'content_kicker': None, 'print_headline': None, 'name': None, 'seo': None, 'sub': None}, {'main': 'MUSIC OF THE WEEK', 'kicker': None, 'content_kicker': None, 'print_headline': None, 'name': None, 'seo': None, 'sub': None}, {'main': 'Anacomp Inc. reports earnings for Qtr to March 31', 'kicker': None, 'content_kicker': None, 'print_headline': None, 'name': None, 'seo': None, 'sub': None}, {'main': 'Brooklyn Routs Yeshiva', 'kicker': '1', 'content_kicker': None, 'print_headline': None, 'name': None, 'seo': None, 'sub': None}, {'main': 'Albuquerque Program Gives Drinkers a Lift', 'kicker': '1', 'content_kicker': None, 'print_headline': None, 'name': None, 'seo': None, 'sub': None}, {'main': 'Front Page 7 -- No Title', 'kicker': '1', 'content_kicker': None, 'print_headline': None, 'name': None, 'seo': None, 'sub': None}, {'main': 'UNIONS AND BUILDERS READY FOR LONG FIGHT; None of the Strikers Back - Lock-Out Soon in Effect. 23,000 ALREADY INVOLVED Orders Sent to Every Building Employer Within Twenty-five Miles -- House-smiths Vote Not to Strike.', 'kicker': None, 'content_kicker': None, 'print_headline': None, 'name': None, 'seo': None, 'sub': None}]\n"
          ]
        }
      ],
      "source": [
        "print([doc['headline'] for doc in docs])"
      ]
    },
    {
      "cell_type": "code",
      "execution_count": null,
      "metadata": {
        "id": "LvWB5bVFrXiA"
      },
      "outputs": [],
      "source": [
        "# -EXPECTED OUTPUT-\n",
        "# for loop\n",
        "\"\"\"\n",
        "{'main': \"HIGGINS, SPENT $22,189.53.; Governor-Elect's Election Expenses -- Harrison $9,220.28.\", 'kicker': None, 'content_kicker': None, 'print_headline': None, 'name': None, 'seo': None, 'sub': None}\n",
        "{'main': 'GARDEN BOUTS CANCELED; Mauriello Says He Could Not Be Ready on Nov. 3', 'kicker': '1', 'content_kicker': None, 'print_headline': None, 'name': None, 'seo': None, 'sub': None}\n",
        "{'main': 'Stock Drop Is Biggest in 2 Months--Margin Rise Held Factor in Lightest Trading of 1955', 'kicker': '1', 'content_kicker': None, 'print_headline': None, 'name': None, 'seo': None, 'sub': None}\n",
        "{'main': 'MUSIC OF THE WEEK', 'kicker': None, 'content_kicker': None, 'print_headline': None, 'name': None, 'seo': None, 'sub': None}\n",
        "{'main': 'Anacomp Inc. reports earnings for Qtr to March 31', 'kicker': None, 'content_kicker': None, 'print_headline': None, 'name': None, 'seo': None, 'sub': None}\n",
        "{'main': 'Brooklyn Routs Yeshiva', 'kicker': '1', 'content_kicker': None, 'print_headline': None, 'name': None, 'seo': None, 'sub': None}\n",
        "{'main': 'Albuquerque Program Gives Drinkers a Lift', 'kicker': '1', 'content_kicker': None, 'print_headline': None, 'name': None, 'seo': None, 'sub': None}\n",
        "{'main': 'Front Page 7 -- No Title', 'kicker': '1', 'content_kicker': None, 'print_headline': None, 'name': None, 'seo': None, 'sub': None}\n",
        "{'main': 'UNIONS AND BUILDERS READY FOR LONG FIGHT; None of the Strikers Back - Lock-Out Soon in Effect. 23,000 ALREADY INVOLVED Orders Sent to Every Building Employer Within Twenty-five Miles -- House-smiths Vote Not to Strike.', 'kicker': None, 'content_kicker': None, 'print_headline': None, 'name': None, 'seo': None, 'sub': None}\n",
        "\"\"\"\n",
        "# or\n",
        "# list comprehension\n",
        "\"\"\"\n",
        "[{'main': \"HIGGINS, SPENT $22,189.53.; Governor-Elect's Election Expenses -- Harrison $9,220.28.\", 'kicker': None, 'content_kicker': None, 'print_headline': None, 'name': None, 'seo': None, 'sub': None}, {'main': 'GARDEN BOUTS CANCELED; Mauriello Says He Could Not Be Ready on Nov. 3', 'kicker': '1', 'content_kicker': None, 'print_headline': None, 'name': None, 'seo': None, 'sub': None}, {'main': 'Stock Drop Is Biggest in 2 Months--Margin Rise Held Factor in Lightest Trading of 1955', 'kicker': '1', 'content_kicker': None, 'print_headline': None, 'name': None, 'seo': None, 'sub': None}, {'main': 'MUSIC OF THE WEEK', 'kicker': None, 'content_kicker': None, 'print_headline': None, 'name': None, 'seo': None, 'sub': None}, {'main': 'Anacomp Inc. reports earnings for Qtr to March 31', 'kicker': None, 'content_kicker': None, 'print_headline': None, 'name': None, 'seo': None, 'sub': None}, {'main': 'Brooklyn Routs Yeshiva', 'kicker': '1', 'content_kicker': None, 'print_headline': None, 'name': None, 'seo': None, 'sub': None}, {'main': 'Albuquerque Program Gives Drinkers a Lift', 'kicker': '1', 'content_kicker': None, 'print_headline': None, 'name': None, 'seo': None, 'sub': None}, {'main': 'Front Page 7 -- No Title', 'kicker': '1', 'content_kicker': None, 'print_headline': None, 'name': None, 'seo': None, 'sub': None}, {'main': 'UNIONS AND BUILDERS READY FOR LONG FIGHT; None of the Strikers Back - Lock-Out Soon in Effect. 23,000 ALREADY INVOLVED Orders Sent to Every Building Employer Within Twenty-five Miles -- House-smiths Vote Not to Strike.', 'kicker': None, 'content_kicker': None, 'print_headline': None, 'name': None, 'seo': None, 'sub': None}]\n",
        "\"\"\""
      ]
    },
    {
      "cell_type": "markdown",
      "metadata": {
        "id": "cna3PeGmrXiA"
      },
      "source": [
        "Or if you want to just print the main headlines themselves with the following code:\n",
        "\n",
        "> In the cell below, type the following code to print the `main` element of each `headline`:\n",
        "\n",
        "with a for loop:\n",
        "```\n",
        "for doc in docs:\n",
        "    print(doc['headline']['main'])\n",
        "\n",
        "```\n",
        "or with list comprehension:\n",
        "```\n",
        "print([doc['headline']['main'] for doc in docs])\n",
        "```"
      ]
    },
    {
      "cell_type": "code",
      "execution_count": 10,
      "metadata": {
        "id": "pmJ8i3LmrXiA",
        "outputId": "9a131983-efcd-4ebe-df27-5520fb40b4ef",
        "colab": {
          "base_uri": "https://localhost:8080/"
        }
      },
      "outputs": [
        {
          "output_type": "stream",
          "name": "stdout",
          "text": [
            "[\"HIGGINS, SPENT $22,189.53.; Governor-Elect's Election Expenses -- Harrison $9,220.28.\", 'GARDEN BOUTS CANCELED; Mauriello Says He Could Not Be Ready on Nov. 3', 'Stock Drop Is Biggest in 2 Months--Margin Rise Held Factor in Lightest Trading of 1955', 'MUSIC OF THE WEEK', 'Anacomp Inc. reports earnings for Qtr to March 31', 'Brooklyn Routs Yeshiva', 'Albuquerque Program Gives Drinkers a Lift', 'Front Page 7 -- No Title', 'UNIONS AND BUILDERS READY FOR LONG FIGHT; None of the Strikers Back - Lock-Out Soon in Effect. 23,000 ALREADY INVOLVED Orders Sent to Every Building Employer Within Twenty-five Miles -- House-smiths Vote Not to Strike.']\n"
          ]
        }
      ],
      "source": [
        "print([doc['headline']['main'] for doc in docs])"
      ]
    },
    {
      "cell_type": "code",
      "execution_count": null,
      "metadata": {
        "id": "v8gsEuVMrXiA"
      },
      "outputs": [],
      "source": [
        "# -EXPECTED OUTPUT-\n",
        "\"\"\"\n",
        "HIGGINS, SPENT $22,189.53.; Governor-Elect's Election Expenses -- Harrison $9,220.28.\n",
        "GARDEN BOUTS CANCELED; Mauriello Says He Could Not Be Ready on Nov. 3\n",
        "Stock Drop Is Biggest in 2 Months--Margin Rise Held Factor in Lightest Trading of 1955\n",
        "MUSIC OF THE WEEK\n",
        "Anacomp Inc. reports earnings for Qtr to March 31\n",
        "Brooklyn Routs Yeshiva\n",
        "Albuquerque Program Gives Drinkers a Lift\n",
        "Front Page 7 -- No Title\n",
        "UNIONS AND BUILDERS READY FOR LONG FIGHT; None of the Strikers Back - Lock-Out Soon in Effect. 23,000 ALREADY INVOLVED Orders Sent to Every Building Employer Within Twenty-five Miles -- House-smiths Vote Not to Strike.\n",
        "\"\"\"\n",
        "\n",
        "# or with list comprehension\n",
        "\n",
        "\"\"\"[\"HIGGINS, SPENT $22,189.53.; Governor-Elect's Election Expenses -- Harrison $9,220.28.\", 'GARDEN BOUTS CANCELED; Mauriello Says He Could Not Be Ready on Nov. 3', 'Stock Drop Is Biggest in 2 Months--Margin Rise Held Factor in Lightest Trading of 1955', 'MUSIC OF THE WEEK', 'Anacomp Inc. reports earnings for Qtr to March 31', 'Brooklyn Routs Yeshiva', 'Albuquerque Program Gives Drinkers a Lift', 'Front Page 7 -- No Title', 'UNIONS AND BUILDERS READY FOR LONG FIGHT; None of the Strikers Back - Lock-Out Soon in Effect. 23,000 ALREADY INVOLVED Orders Sent to Every Building Employer Within Twenty-five Miles -- House-smiths Vote Not to Strike.']\n",
        "\"\"\""
      ]
    },
    {
      "cell_type": "markdown",
      "metadata": {
        "id": "y4NRV0cbrXiA"
      },
      "source": [
        "## Flattening Data (i.e. Breaking Out Nested Data)\n",
        "\n",
        "Let's say we want to create a list of dictionaries containing information about the documents contained in this JSON. It should contain the publication date (value associated with `pub_date` key), word count (value associated with `word_count` key), and both the `'main'` and `'kicker'` associated with the `headline` key. This list should be called `doc_info_list` and should look something like this:\n",
        "\n",
        "```python\n",
        "[\n",
        "    {\n",
        "        'headline_main': \"HIGGINS, SPENT $22,189.53.; Governor-Elect's Election Expenses -- Harrison $9,220.28.\",\n",
        "        'headline_kicker': None,\n",
        "        'pub_date': '1904-11-17T00:00:00Z',\n",
        "        'word_count': 213\n",
        "    },\n",
        "    {\n",
        "        'headline_main': 'GARDEN BOUTS CANCELED; Mauriello Says He Could Not Be Ready on Nov. 3',\n",
        "        'headline_kicker': '1',\n",
        "        'pub_date': '1944-10-23T00:00:00Z',\n",
        "        'word_count': 149\n",
        "    },\n",
        "    ...\n",
        "]\n",
        "```\n",
        "\n",
        "The tricky part is, each dictionary needs to be \"flat\", meaning that each key is associated with a single string or number value, not a deeper data structure. So we need to flatten the nested `headline` dictionary.\n",
        "\n",
        "It's also conventional when flattening data to make a compound name for the newly-created keys. So, let's call the new keys `headline_main` and `headline_kicker`.\n",
        "\n",
        "Recall the structure of a `headline` dictionary:\n",
        "\n",
        "> Print out one of the `headline` elements by typing in the following code:\n",
        "\n",
        "```\n",
        "docs[2]['headline']\n",
        "```"
      ]
    },
    {
      "cell_type": "code",
      "execution_count": 11,
      "metadata": {
        "id": "i3g6BZPFrXiA",
        "outputId": "e85e1405-6e19-4fd5-d123-ae8b1cc6a44d",
        "colab": {
          "base_uri": "https://localhost:8080/"
        }
      },
      "outputs": [
        {
          "output_type": "execute_result",
          "data": {
            "text/plain": [
              "{'main': 'Stock Drop Is Biggest in 2 Months--Margin Rise Held Factor in Lightest Trading of 1955',\n",
              " 'kicker': '1',\n",
              " 'content_kicker': None,\n",
              " 'print_headline': None,\n",
              " 'name': None,\n",
              " 'seo': None,\n",
              " 'sub': None}"
            ]
          },
          "metadata": {},
          "execution_count": 11
        }
      ],
      "source": [
        "docs[2]['headline']"
      ]
    },
    {
      "cell_type": "code",
      "execution_count": null,
      "metadata": {
        "id": "2bAGoYBOrXiA"
      },
      "outputs": [],
      "source": [
        "# -EXPECTED OUTPUT-\n",
        "\"\"\"\n",
        "{'main': 'Stock Drop Is Biggest in 2 Months--Margin Rise Held Factor in Lightest Trading of 1955',\n",
        " 'kicker': '1',\n",
        " 'content_kicker': None,\n",
        " 'print_headline': None,\n",
        " 'name': None,\n",
        " 'seo': None,\n",
        " 'sub': None}\n",
        "\"\"\""
      ]
    },
    {
      "cell_type": "markdown",
      "metadata": {
        "id": "nOqUXOScrXiB"
      },
      "source": [
        "So, first let's write a function that takes in that complete dictionary, and returns a copy with only the `'main'` and `'kicker'` keys and values, now labeled `'headline_main'` and `'headline_kicker'`:\n",
        "\n",
        "> In the cell below, type the following code to extract the desired information:\n",
        "\n",
        "```\n",
        "def extract_headline_info(headline_dict):\n",
        "    result = {}\n",
        "    result['headline_main'] = headline_dict['main']\n",
        "    result['headline_kicker'] = headline_dict['kicker']\n",
        "    return result\n",
        "```"
      ]
    },
    {
      "cell_type": "code",
      "execution_count": 12,
      "metadata": {
        "id": "9abHK5LWrXiB"
      },
      "outputs": [],
      "source": [
        "def extract_headline_info(headline_dict):\n",
        "    result = {}\n",
        "    result['headline_main'] = headline_dict['main']\n",
        "    result['headline_kicker'] = headline_dict['kicker']\n",
        "    return result"
      ]
    },
    {
      "cell_type": "markdown",
      "metadata": {
        "id": "uHoR7vZErXiB"
      },
      "source": [
        "Then we can test it out:\n",
        "\n",
        "> In the cell below, type the following code to test the function:\n",
        "\n",
        "```\n",
        "extract_headline_info(docs[2]['headline'])\n",
        "```"
      ]
    },
    {
      "cell_type": "code",
      "execution_count": 13,
      "metadata": {
        "id": "Xn2GT5WVrXiB",
        "outputId": "36aa2ce4-22cc-4319-8377-27b5caa7db22",
        "colab": {
          "base_uri": "https://localhost:8080/"
        }
      },
      "outputs": [
        {
          "output_type": "execute_result",
          "data": {
            "text/plain": [
              "{'headline_main': 'Stock Drop Is Biggest in 2 Months--Margin Rise Held Factor in Lightest Trading of 1955',\n",
              " 'headline_kicker': '1'}"
            ]
          },
          "metadata": {},
          "execution_count": 13
        }
      ],
      "source": [
        "extract_headline_info(docs[2]['headline'])"
      ]
    },
    {
      "cell_type": "code",
      "execution_count": null,
      "metadata": {
        "id": "h5VNvhrtrXiB"
      },
      "outputs": [],
      "source": [
        "# -EXPECTED OUTPUT-\n",
        "\"\"\"\n",
        "{'headline_main': 'Stock Drop Is Biggest in 2 Months--Margin Rise Held Factor in Lightest Trading of 1955',\n",
        " 'headline_kicker': '1'}\n",
        "\"\"\""
      ]
    },
    {
      "cell_type": "markdown",
      "metadata": {
        "id": "Ij1ajULcrXiB"
      },
      "source": [
        "Now let's write another function that calls that function, then adds the `pub_date` and `word_count` keys and values:\n",
        "\n",
        "> In the cell below type the following code to define a function that calls our other function and adds the `pub_date` and `word_count` keys and values:\n",
        "```\n",
        "def extract_doc_info(doc):\n",
        "    info = extract_headline_info(doc['headline'])\n",
        "    info['pub_date'] = doc['pub_date']\n",
        "    info['word_count'] = doc['word_count']\n",
        "    return info\n",
        "```"
      ]
    },
    {
      "cell_type": "code",
      "execution_count": 14,
      "metadata": {
        "id": "tOW0Bjb-rXiB"
      },
      "outputs": [],
      "source": [
        "def extract_doc_info(doc):\n",
        "    info = extract_headline_info(doc['headline'])\n",
        "    info['pub_date'] = doc['pub_date']\n",
        "    info['word_count'] = doc['word_count']\n",
        "    return info"
      ]
    },
    {
      "cell_type": "markdown",
      "metadata": {
        "id": "Ipx2k5LirXiB"
      },
      "source": [
        "Again, testing it out on a couple examples:\n",
        "\n",
        "> In the cells below, type the following code to test the function changing the index as necessary:\n",
        "\n",
        "```\n",
        "extract_doc_info(docs[2])\n",
        "```"
      ]
    },
    {
      "cell_type": "code",
      "execution_count": 15,
      "metadata": {
        "id": "_tyQny4arXiB",
        "outputId": "7809b603-f10f-4416-82c8-075bb892452e",
        "colab": {
          "base_uri": "https://localhost:8080/"
        }
      },
      "outputs": [
        {
          "output_type": "execute_result",
          "data": {
            "text/plain": [
              "{'headline_main': 'Stock Drop Is Biggest in 2 Months--Margin Rise Held Factor in Lightest Trading of 1955',\n",
              " 'headline_kicker': '1',\n",
              " 'pub_date': '1955-05-15T00:00:00Z',\n",
              " 'word_count': 823}"
            ]
          },
          "metadata": {},
          "execution_count": 15
        }
      ],
      "source": [
        "extract_doc_info(docs[2])"
      ]
    },
    {
      "cell_type": "code",
      "execution_count": null,
      "metadata": {
        "id": "u5G5AEd8rXiC"
      },
      "outputs": [],
      "source": [
        "# -EXPECTED OUTPUT-\n",
        "\"\"\"\n",
        "{'headline_main': 'Stock Drop Is Biggest in 2 Months--Margin Rise Held Factor in Lightest Trading of 1955',\n",
        " 'headline_kicker': '1',\n",
        " 'pub_date': '1955-05-15T00:00:00Z',\n",
        " 'word_count': 823}\n",
        "\"\"\""
      ]
    },
    {
      "cell_type": "code",
      "execution_count": 16,
      "metadata": {
        "id": "WghzmJaHrXiF",
        "outputId": "08b39f79-1863-4d5a-fdb4-274f7af63c8b",
        "colab": {
          "base_uri": "https://localhost:8080/"
        }
      },
      "outputs": [
        {
          "output_type": "execute_result",
          "data": {
            "text/plain": [
              "{'headline_main': \"HIGGINS, SPENT $22,189.53.; Governor-Elect's Election Expenses -- Harrison $9,220.28.\",\n",
              " 'headline_kicker': None,\n",
              " 'pub_date': '1904-11-17T00:00:00Z',\n",
              " 'word_count': 213}"
            ]
          },
          "metadata": {},
          "execution_count": 16
        }
      ],
      "source": [
        "extract_doc_info(docs[0])"
      ]
    },
    {
      "cell_type": "code",
      "execution_count": null,
      "metadata": {
        "id": "IByxyNsIrXiF"
      },
      "outputs": [],
      "source": [
        "# -EXPECTED OUTPUT-\n",
        "\"\"\"\n",
        "{'headline_main': \"HIGGINS, SPENT $22,189.53.; Governor-Elect's Election Expenses -- Harrison $9,220.28.\",\n",
        " 'headline_kicker': None,\n",
        " 'pub_date': '1904-11-17T00:00:00Z',\n",
        " 'word_count': 213}\n",
        "\"\"\""
      ]
    },
    {
      "cell_type": "markdown",
      "metadata": {
        "id": "Aw-M7vuyrXiF"
      },
      "source": [
        "Now we can loop over the full list and create `doc_info_list`:\n",
        "\n",
        "> In the cell below, type following code to create a loop that creates the desired list using the function just created, then print out the results:\n",
        "\n",
        "either with a for loop:\n",
        "```\n",
        "doc_info_list = []\n",
        "for doc in docs:\n",
        "   doc_info_list.append(extract_doc_info(doc))\n",
        "doc_info_list\n",
        "```\n",
        "or with list comprehension:\n",
        "```\n",
        "doc_info_list = [extract_doc_info(doc) for doc in docs]\n",
        "doc_info_list\n",
        "```"
      ]
    },
    {
      "cell_type": "code",
      "execution_count": 17,
      "metadata": {
        "id": "O4Ym95HMrXiF",
        "outputId": "af527fb7-3292-496a-d628-372da42c3c86",
        "colab": {
          "base_uri": "https://localhost:8080/"
        }
      },
      "outputs": [
        {
          "output_type": "execute_result",
          "data": {
            "text/plain": [
              "[{'headline_main': \"HIGGINS, SPENT $22,189.53.; Governor-Elect's Election Expenses -- Harrison $9,220.28.\",\n",
              "  'headline_kicker': None,\n",
              "  'pub_date': '1904-11-17T00:00:00Z',\n",
              "  'word_count': 213},\n",
              " {'headline_main': 'GARDEN BOUTS CANCELED; Mauriello Says He Could Not Be Ready on Nov. 3',\n",
              "  'headline_kicker': '1',\n",
              "  'pub_date': '1944-10-23T00:00:00Z',\n",
              "  'word_count': 149},\n",
              " {'headline_main': 'Stock Drop Is Biggest in 2 Months--Margin Rise Held Factor in Lightest Trading of 1955',\n",
              "  'headline_kicker': '1',\n",
              "  'pub_date': '1955-05-15T00:00:00Z',\n",
              "  'word_count': 823},\n",
              " {'headline_main': 'MUSIC OF THE WEEK',\n",
              "  'headline_kicker': None,\n",
              "  'pub_date': '1904-11-06T00:00:00Z',\n",
              "  'word_count': 2609},\n",
              " {'headline_main': 'Anacomp Inc. reports earnings for Qtr to March 31',\n",
              "  'headline_kicker': None,\n",
              "  'pub_date': '1992-05-06T00:00:00Z',\n",
              "  'word_count': 129},\n",
              " {'headline_main': 'Brooklyn Routs Yeshiva',\n",
              "  'headline_kicker': '1',\n",
              "  'pub_date': '1972-12-24T00:00:00Z',\n",
              "  'word_count': 144},\n",
              " {'headline_main': 'Albuquerque Program Gives Drinkers a Lift',\n",
              "  'headline_kicker': '1',\n",
              "  'pub_date': '1972-12-25T00:00:00Z',\n",
              "  'word_count': 151},\n",
              " {'headline_main': 'Front Page 7 -- No Title',\n",
              "  'headline_kicker': '1',\n",
              "  'pub_date': '1944-10-24T00:00:00Z',\n",
              "  'word_count': 29},\n",
              " {'headline_main': 'UNIONS AND BUILDERS READY FOR LONG FIGHT; None of the Strikers Back - Lock-Out Soon in Effect. 23,000 ALREADY INVOLVED Orders Sent to Every Building Employer Within Twenty-five Miles -- House-smiths Vote Not to Strike.',\n",
              "  'headline_kicker': None,\n",
              "  'pub_date': '1904-08-06T00:00:00Z',\n",
              "  'word_count': 883}]"
            ]
          },
          "metadata": {},
          "execution_count": 17
        }
      ],
      "source": [
        "doc_info_list = []\n",
        "for doc in docs:\n",
        "   doc_info_list.append(extract_doc_info(doc))\n",
        "doc_info_list"
      ]
    },
    {
      "cell_type": "code",
      "execution_count": null,
      "metadata": {
        "id": "UUO6l9M9rXiF"
      },
      "outputs": [],
      "source": [
        "# -EXPECTED OUTPUT-\n",
        "\"\"\"\n",
        "Output exceeds the size limit. Open the full output data in a text editor\n",
        "\n",
        "[{'headline_main': \"HIGGINS, SPENT $22,189.53.; Governor-Elect's Election Expenses -- Harrison $9,220.28.\",\n",
        "  'headline_kicker': None,\n",
        "  'pub_date': '1904-11-17T00:00:00Z',\n",
        "  'word_count': 213},\n",
        " {'headline_main': 'GARDEN BOUTS CANCELED; Mauriello Says He Could Not Be Ready on Nov. 3',\n",
        "  'headline_kicker': '1',\n",
        "  'pub_date': '1944-10-23T00:00:00Z',\n",
        "  'word_count': 149},\n",
        " {'headline_main': 'Stock Drop Is Biggest in 2 Months--Margin Rise Held Factor in Lightest Trading of 1955',\n",
        "  'headline_kicker': '1',\n",
        "  'pub_date': '1955-05-15T00:00:00Z',\n",
        "  'word_count': 823},\n",
        " {'headline_main': 'MUSIC OF THE WEEK',\n",
        "  'headline_kicker': None,\n",
        "  'pub_date': '1904-11-06T00:00:00Z',\n",
        "  'word_count': 2609},\n",
        " {'headline_main': 'Anacomp Inc. reports earnings for Qtr to March 31',\n",
        "  'headline_kicker': None,\n",
        "  'pub_date': '1992-05-06T00:00:00Z',\n",
        "  'word_count': 129},\n",
        " {'headline_main': 'Brooklyn Routs Yeshiva',\n",
        "  'headline_kicker': '1',\n",
        "  'pub_date': '1972-12-24T00:00:00Z',\n",
        "  'word_count': 144},\n",
        " {'headline_main': 'Albuquerque Program Gives Drinkers a Lift',\n",
        "  'pub_date': '1944-10-24T00:00:00Z',\n",
        "  'word_count': 29},\n",
        " {'headline_main': 'UNIONS AND BUILDERS READY FOR LONG FIGHT; None of the Strikers Back - Lock-Out Soon in Effect. 23,000 ALREADY INVOLVED Orders Sent to Every Building Employer Within Twenty-five Miles -- House-smiths Vote Not to Strike.',\n",
        "  'headline_kicker': None,\n",
        "  'pub_date': '1904-08-06T00:00:00Z',\n",
        "  'word_count': 883}]\n",
        "\"\"\""
      ]
    },
    {
      "cell_type": "markdown",
      "metadata": {
        "id": "QZ5WRqDurXiG"
      },
      "source": [
        "Thus we have successfully flattened the required data"
      ]
    },
    {
      "cell_type": "markdown",
      "metadata": {
        "id": "Ps223utArXiG"
      },
      "source": [
        "## Transforming JSON to Alternative Formats\n",
        "\n",
        "### Viewing the Raw Dataset in Pandas\n",
        "\n",
        "You've also previously started to take a look at how to transform JSON to DataFrames. Investigating the schema, a good option for this could again be the value associated with the `'docs'` key. While this still has nested data itself, it's often easier to load the entire contents as a DataFrame for viewing and then use additional functions to break apart the internally nested data from there.\n",
        "\n",
        "So, first we will display the full information associated with the `'docs'` key:\n",
        "\n",
        "> In the cell below, first import pandas using the standard alias, then type the code to create a DataFrame of the info found in data->response->docs:\n",
        "\n",
        "```\n",
        "pd.DataFrame(data['response']['docs'])\n",
        "```"
      ]
    },
    {
      "cell_type": "code",
      "execution_count": 18,
      "metadata": {
        "id": "fm79lS3rrXiG",
        "outputId": "676d67d5-9834-471d-e436-ed8f22083bcf",
        "colab": {
          "base_uri": "https://localhost:8080/"
        }
      },
      "outputs": [
        {
          "output_type": "execute_result",
          "data": {
            "text/plain": [
              "(9, 17)"
            ]
          },
          "metadata": {},
          "execution_count": 18
        }
      ],
      "source": [
        "import pandas as pd\n",
        "df = pd.DataFrame(data['response']['docs'])\n",
        "df.shape"
      ]
    },
    {
      "cell_type": "code",
      "execution_count": 19,
      "metadata": {
        "id": "TOBASNVOrXiG",
        "outputId": "c991f5fa-198e-46ae-f5df-615b0e5aaf11",
        "colab": {
          "base_uri": "https://localhost:8080/",
          "height": 1000
        }
      },
      "outputs": [
        {
          "output_type": "execute_result",
          "data": {
            "text/plain": [
              "                                                                                             web_url  \\\n",
              "0           https://query.nytimes.com/gst/abstract.html?res=9C05E3D7113DE633A25754C1A9679D946597D6CF   \n",
              "1           https://query.nytimes.com/gst/abstract.html?res=9E07E6DA1F3BE433A25750C2A9669D946593D6CF   \n",
              "2           https://query.nytimes.com/gst/abstract.html?res=9E07E1DB1330E531A15756C1A9639C946492D6CF   \n",
              "3           https://query.nytimes.com/gst/abstract.html?res=9504EEDE123BE733A25755C0A9679D946597D6CF   \n",
              "4  https://www.nytimes.com/1992/05/06/business/anacomp-inc-reports-earnings-for-qtr-to-march-31.html   \n",
              "5             https://query.nytimes.com/gst/abstract.html?res=9503EFDF153DE53ABC4C51DFB4678389669EDE   \n",
              "6             https://query.nytimes.com/gst/abstract.html?res=9F03E1DA1631E63BBC4D51DFB4678389669EDE   \n",
              "7             https://query.nytimes.com/gst/abstract.html?res=9905E6DD153EE03BBC4C51DFB667838F659EDE   \n",
              "8           https://query.nytimes.com/gst/abstract.html?res=9507EFDB1F3AE733A25755C0A96E9C946597D6CF   \n",
              "\n",
              "                                                                                                                   snippet  \\\n",
              "0                                                                                                            Spent $22,200   \n",
              "1                                                                                                                            \n",
              "2  Stock prices last week, on the lightest volume of the year, sustained the largest losses in about two months. Some t...   \n",
              "3  The first public rehearsal and concert of the Philharmonic Society will be given at Carnegie Hall on Friday afternoo...   \n",
              "4                                                                                                                            \n",
              "5                                                                                                                            \n",
              "6  ALBUQUERQUE, N. M., Dec. 24 -- Holiday drinkers who have drunk too much can get free rides home from now until Jan. ...   \n",
              "7                                                                                                                            \n",
              "8  The employers and the unions have lined up in preparation for a long fight in the building war. An indication of the...   \n",
              "\n",
              "                    abstract print_page blog              source multimedia  \\\n",
              "0              Spent $22,200          2   {}  The New York Times         []   \n",
              "1                        NaN         15   {}  The New York Times         []   \n",
              "2                        NaN         F1   {}  The New York Times         []   \n",
              "3  Healy, Michael, will suit         20   {}  The New York Times         []   \n",
              "4                        NaN         20   {}  The New York Times         []   \n",
              "5                        NaN         S9   {}  The New York Times         []   \n",
              "6                        NaN         11   {}  The New York Times         []   \n",
              "7                        NaN          1   {}  The New York Times         []   \n",
              "8   housesmiths won't strike          1   {}  The New York Times         []   \n",
              "\n",
              "                                                                                                                  headline  \\\n",
              "0  {'main': 'HIGGINS, SPENT $22,189.53.; Governor-Elect's Election Expenses -- Harrison $9,220.28.', 'kicker': None, 'c...   \n",
              "1  {'main': 'GARDEN BOUTS CANCELED; Mauriello Says He Could Not Be Ready on Nov. 3', 'kicker': '1', 'content_kicker': N...   \n",
              "2  {'main': 'Stock Drop Is Biggest in 2 Months--Margin Rise Held Factor in Lightest Trading of 1955', 'kicker': '1', 'c...   \n",
              "3  {'main': 'MUSIC OF THE WEEK', 'kicker': None, 'content_kicker': None, 'print_headline': None, 'name': None, 'seo': N...   \n",
              "4  {'main': 'Anacomp Inc. reports earnings for Qtr to March 31', 'kicker': None, 'content_kicker': None, 'print_headlin...   \n",
              "5  {'main': 'Brooklyn Routs Yeshiva', 'kicker': '1', 'content_kicker': None, 'print_headline': None, 'name': None, 'seo...   \n",
              "6  {'main': 'Albuquerque Program Gives Drinkers a Lift', 'kicker': '1', 'content_kicker': None, 'print_headline': None,...   \n",
              "7  {'main': 'Front Page 7 -- No Title', 'kicker': '1', 'content_kicker': None, 'print_headline': None, 'name': None, 's...   \n",
              "8  {'main': 'UNIONS AND BUILDERS READY FOR LONG FIGHT; None of the Strikers Back - Lock-Out Soon in Effect. 23,000 ALRE...   \n",
              "\n",
              "                                                                                                                  keywords  \\\n",
              "0                                            [{'name': 'persons', 'value': 'HIGGINS, LT. GOV.', 'rank': 0, 'major': None}]   \n",
              "1                                                                                                                       []   \n",
              "2                                                                                                                       []   \n",
              "3                                               [{'name': 'persons', 'value': 'HEALY, MICHAEL', 'rank': 0, 'major': None}]   \n",
              "4                                             [{'name': 'subject', 'value': 'COMPANY EARNINGS', 'rank': 0, 'major': None}]   \n",
              "5                                                                                                                       []   \n",
              "6                                                                                                                       []   \n",
              "7                                                                                                                       []   \n",
              "8  [{'name': 'glocations', 'value': 'NEW YORK CITY', 'rank': 0, 'major': None}, {'name': 'subject', 'value': 'STRIKES',...   \n",
              "\n",
              "               pub_date document_type type_of_material  \\\n",
              "0  1904-11-17T00:00:00Z       article          Article   \n",
              "1  1944-10-23T00:00:00Z       article          Article   \n",
              "2  1955-05-15T00:00:00Z       article          Article   \n",
              "3  1904-11-06T00:00:00Z       article          Article   \n",
              "4  1992-05-06T00:00:00Z       article       Statistics   \n",
              "5  1972-12-24T00:00:00Z       article          Article   \n",
              "6  1972-12-25T00:00:00Z       article          Article   \n",
              "7  1944-10-24T00:00:00Z       article       Front Page   \n",
              "8  1904-08-06T00:00:00Z       article       Front Page   \n",
              "\n",
              "                        _id  word_count  score  \\\n",
              "0  4fc04eb745c1498b0d23da00         213      1   \n",
              "1  4fc21ebf45c1498b0d612b22         149      1   \n",
              "2  4fc3b41d45c1498b0d7fd41e         823      1   \n",
              "3  4fc04eb745c1498b0d23da12        2609      1   \n",
              "4  4fd1b3018eb7c8105d6d690a         129      1   \n",
              "5  4fc47bb045c1498b0da03363         144      1   \n",
              "6  4fc47bb045c1498b0da03367         151      1   \n",
              "7  4fc21ebf45c1498b0d612b3c          29      1   \n",
              "8  4fc04eb745c1498b0d23da17         883      1   \n",
              "\n",
              "                                                                                                                    byline  \\\n",
              "0                                                                                                                      NaN   \n",
              "1                                                                                                                      NaN   \n",
              "2  {'original': 'By JOHN G. FORREST', 'person': [{'firstname': 'John', 'middlename': 'G.', 'lastname': 'FORREST', 'qual...   \n",
              "3                                                                                                                      NaN   \n",
              "4                                                                                                                      NaN   \n",
              "5                                                                                                                      NaN   \n",
              "6  {'original': 'Special to The New York Times', 'person': [{'firstname': None, 'middlename': None, 'lastname': None, '...   \n",
              "7                                                                                                                      NaN   \n",
              "8                                                                                                                      NaN   \n",
              "\n",
              "        news_desk  \n",
              "0             NaN  \n",
              "1             NaN  \n",
              "2             NaN  \n",
              "3             NaN  \n",
              "4  Financial Desk  \n",
              "5             NaN  \n",
              "6             NaN  \n",
              "7             NaN  \n",
              "8             NaN  "
            ],
            "text/html": [
              "\n",
              "  <div id=\"df-75ebb56d-9196-4a1f-ba34-32e513e3e5fa\" class=\"colab-df-container\">\n",
              "    <div>\n",
              "<style scoped>\n",
              "    .dataframe tbody tr th:only-of-type {\n",
              "        vertical-align: middle;\n",
              "    }\n",
              "\n",
              "    .dataframe tbody tr th {\n",
              "        vertical-align: top;\n",
              "    }\n",
              "\n",
              "    .dataframe thead th {\n",
              "        text-align: right;\n",
              "    }\n",
              "</style>\n",
              "<table border=\"1\" class=\"dataframe\">\n",
              "  <thead>\n",
              "    <tr style=\"text-align: right;\">\n",
              "      <th></th>\n",
              "      <th>web_url</th>\n",
              "      <th>snippet</th>\n",
              "      <th>abstract</th>\n",
              "      <th>print_page</th>\n",
              "      <th>blog</th>\n",
              "      <th>source</th>\n",
              "      <th>multimedia</th>\n",
              "      <th>headline</th>\n",
              "      <th>keywords</th>\n",
              "      <th>pub_date</th>\n",
              "      <th>document_type</th>\n",
              "      <th>type_of_material</th>\n",
              "      <th>_id</th>\n",
              "      <th>word_count</th>\n",
              "      <th>score</th>\n",
              "      <th>byline</th>\n",
              "      <th>news_desk</th>\n",
              "    </tr>\n",
              "  </thead>\n",
              "  <tbody>\n",
              "    <tr>\n",
              "      <th>0</th>\n",
              "      <td>https://query.nytimes.com/gst/abstract.html?res=9C05E3D7113DE633A25754C1A9679D946597D6CF</td>\n",
              "      <td>Spent $22,200</td>\n",
              "      <td>Spent $22,200</td>\n",
              "      <td>2</td>\n",
              "      <td>{}</td>\n",
              "      <td>The New York Times</td>\n",
              "      <td>[]</td>\n",
              "      <td>{'main': 'HIGGINS, SPENT $22,189.53.; Governor-Elect's Election Expenses -- Harrison $9,220.28.', 'kicker': None, 'c...</td>\n",
              "      <td>[{'name': 'persons', 'value': 'HIGGINS, LT. GOV.', 'rank': 0, 'major': None}]</td>\n",
              "      <td>1904-11-17T00:00:00Z</td>\n",
              "      <td>article</td>\n",
              "      <td>Article</td>\n",
              "      <td>4fc04eb745c1498b0d23da00</td>\n",
              "      <td>213</td>\n",
              "      <td>1</td>\n",
              "      <td>NaN</td>\n",
              "      <td>NaN</td>\n",
              "    </tr>\n",
              "    <tr>\n",
              "      <th>1</th>\n",
              "      <td>https://query.nytimes.com/gst/abstract.html?res=9E07E6DA1F3BE433A25750C2A9669D946593D6CF</td>\n",
              "      <td></td>\n",
              "      <td>NaN</td>\n",
              "      <td>15</td>\n",
              "      <td>{}</td>\n",
              "      <td>The New York Times</td>\n",
              "      <td>[]</td>\n",
              "      <td>{'main': 'GARDEN BOUTS CANCELED; Mauriello Says He Could Not Be Ready on Nov. 3', 'kicker': '1', 'content_kicker': N...</td>\n",
              "      <td>[]</td>\n",
              "      <td>1944-10-23T00:00:00Z</td>\n",
              "      <td>article</td>\n",
              "      <td>Article</td>\n",
              "      <td>4fc21ebf45c1498b0d612b22</td>\n",
              "      <td>149</td>\n",
              "      <td>1</td>\n",
              "      <td>NaN</td>\n",
              "      <td>NaN</td>\n",
              "    </tr>\n",
              "    <tr>\n",
              "      <th>2</th>\n",
              "      <td>https://query.nytimes.com/gst/abstract.html?res=9E07E1DB1330E531A15756C1A9639C946492D6CF</td>\n",
              "      <td>Stock prices last week, on the lightest volume of the year, sustained the largest losses in about two months. Some t...</td>\n",
              "      <td>NaN</td>\n",
              "      <td>F1</td>\n",
              "      <td>{}</td>\n",
              "      <td>The New York Times</td>\n",
              "      <td>[]</td>\n",
              "      <td>{'main': 'Stock Drop Is Biggest in 2 Months--Margin Rise Held Factor in Lightest Trading of 1955', 'kicker': '1', 'c...</td>\n",
              "      <td>[]</td>\n",
              "      <td>1955-05-15T00:00:00Z</td>\n",
              "      <td>article</td>\n",
              "      <td>Article</td>\n",
              "      <td>4fc3b41d45c1498b0d7fd41e</td>\n",
              "      <td>823</td>\n",
              "      <td>1</td>\n",
              "      <td>{'original': 'By JOHN G. FORREST', 'person': [{'firstname': 'John', 'middlename': 'G.', 'lastname': 'FORREST', 'qual...</td>\n",
              "      <td>NaN</td>\n",
              "    </tr>\n",
              "    <tr>\n",
              "      <th>3</th>\n",
              "      <td>https://query.nytimes.com/gst/abstract.html?res=9504EEDE123BE733A25755C0A9679D946597D6CF</td>\n",
              "      <td>The first public rehearsal and concert of the Philharmonic Society will be given at Carnegie Hall on Friday afternoo...</td>\n",
              "      <td>Healy, Michael, will suit</td>\n",
              "      <td>20</td>\n",
              "      <td>{}</td>\n",
              "      <td>The New York Times</td>\n",
              "      <td>[]</td>\n",
              "      <td>{'main': 'MUSIC OF THE WEEK', 'kicker': None, 'content_kicker': None, 'print_headline': None, 'name': None, 'seo': N...</td>\n",
              "      <td>[{'name': 'persons', 'value': 'HEALY, MICHAEL', 'rank': 0, 'major': None}]</td>\n",
              "      <td>1904-11-06T00:00:00Z</td>\n",
              "      <td>article</td>\n",
              "      <td>Article</td>\n",
              "      <td>4fc04eb745c1498b0d23da12</td>\n",
              "      <td>2609</td>\n",
              "      <td>1</td>\n",
              "      <td>NaN</td>\n",
              "      <td>NaN</td>\n",
              "    </tr>\n",
              "    <tr>\n",
              "      <th>4</th>\n",
              "      <td>https://www.nytimes.com/1992/05/06/business/anacomp-inc-reports-earnings-for-qtr-to-march-31.html</td>\n",
              "      <td></td>\n",
              "      <td>NaN</td>\n",
              "      <td>20</td>\n",
              "      <td>{}</td>\n",
              "      <td>The New York Times</td>\n",
              "      <td>[]</td>\n",
              "      <td>{'main': 'Anacomp Inc. reports earnings for Qtr to March 31', 'kicker': None, 'content_kicker': None, 'print_headlin...</td>\n",
              "      <td>[{'name': 'subject', 'value': 'COMPANY EARNINGS', 'rank': 0, 'major': None}]</td>\n",
              "      <td>1992-05-06T00:00:00Z</td>\n",
              "      <td>article</td>\n",
              "      <td>Statistics</td>\n",
              "      <td>4fd1b3018eb7c8105d6d690a</td>\n",
              "      <td>129</td>\n",
              "      <td>1</td>\n",
              "      <td>NaN</td>\n",
              "      <td>Financial Desk</td>\n",
              "    </tr>\n",
              "    <tr>\n",
              "      <th>5</th>\n",
              "      <td>https://query.nytimes.com/gst/abstract.html?res=9503EFDF153DE53ABC4C51DFB4678389669EDE</td>\n",
              "      <td></td>\n",
              "      <td>NaN</td>\n",
              "      <td>S9</td>\n",
              "      <td>{}</td>\n",
              "      <td>The New York Times</td>\n",
              "      <td>[]</td>\n",
              "      <td>{'main': 'Brooklyn Routs Yeshiva', 'kicker': '1', 'content_kicker': None, 'print_headline': None, 'name': None, 'seo...</td>\n",
              "      <td>[]</td>\n",
              "      <td>1972-12-24T00:00:00Z</td>\n",
              "      <td>article</td>\n",
              "      <td>Article</td>\n",
              "      <td>4fc47bb045c1498b0da03363</td>\n",
              "      <td>144</td>\n",
              "      <td>1</td>\n",
              "      <td>NaN</td>\n",
              "      <td>NaN</td>\n",
              "    </tr>\n",
              "    <tr>\n",
              "      <th>6</th>\n",
              "      <td>https://query.nytimes.com/gst/abstract.html?res=9F03E1DA1631E63BBC4D51DFB4678389669EDE</td>\n",
              "      <td>ALBUQUERQUE, N. M., Dec. 24 -- Holiday drinkers who have drunk too much can get free rides home from now until Jan. ...</td>\n",
              "      <td>NaN</td>\n",
              "      <td>11</td>\n",
              "      <td>{}</td>\n",
              "      <td>The New York Times</td>\n",
              "      <td>[]</td>\n",
              "      <td>{'main': 'Albuquerque Program Gives Drinkers a Lift', 'kicker': '1', 'content_kicker': None, 'print_headline': None,...</td>\n",
              "      <td>[]</td>\n",
              "      <td>1972-12-25T00:00:00Z</td>\n",
              "      <td>article</td>\n",
              "      <td>Article</td>\n",
              "      <td>4fc47bb045c1498b0da03367</td>\n",
              "      <td>151</td>\n",
              "      <td>1</td>\n",
              "      <td>{'original': 'Special to The New York Times', 'person': [{'firstname': None, 'middlename': None, 'lastname': None, '...</td>\n",
              "      <td>NaN</td>\n",
              "    </tr>\n",
              "    <tr>\n",
              "      <th>7</th>\n",
              "      <td>https://query.nytimes.com/gst/abstract.html?res=9905E6DD153EE03BBC4C51DFB667838F659EDE</td>\n",
              "      <td></td>\n",
              "      <td>NaN</td>\n",
              "      <td>1</td>\n",
              "      <td>{}</td>\n",
              "      <td>The New York Times</td>\n",
              "      <td>[]</td>\n",
              "      <td>{'main': 'Front Page 7 -- No Title', 'kicker': '1', 'content_kicker': None, 'print_headline': None, 'name': None, 's...</td>\n",
              "      <td>[]</td>\n",
              "      <td>1944-10-24T00:00:00Z</td>\n",
              "      <td>article</td>\n",
              "      <td>Front Page</td>\n",
              "      <td>4fc21ebf45c1498b0d612b3c</td>\n",
              "      <td>29</td>\n",
              "      <td>1</td>\n",
              "      <td>NaN</td>\n",
              "      <td>NaN</td>\n",
              "    </tr>\n",
              "    <tr>\n",
              "      <th>8</th>\n",
              "      <td>https://query.nytimes.com/gst/abstract.html?res=9507EFDB1F3AE733A25755C0A96E9C946597D6CF</td>\n",
              "      <td>The employers and the unions have lined up in preparation for a long fight in the building war. An indication of the...</td>\n",
              "      <td>housesmiths won't strike</td>\n",
              "      <td>1</td>\n",
              "      <td>{}</td>\n",
              "      <td>The New York Times</td>\n",
              "      <td>[]</td>\n",
              "      <td>{'main': 'UNIONS AND BUILDERS READY FOR LONG FIGHT; None of the Strikers Back - Lock-Out Soon in Effect. 23,000 ALRE...</td>\n",
              "      <td>[{'name': 'glocations', 'value': 'NEW YORK CITY', 'rank': 0, 'major': None}, {'name': 'subject', 'value': 'STRIKES',...</td>\n",
              "      <td>1904-08-06T00:00:00Z</td>\n",
              "      <td>article</td>\n",
              "      <td>Front Page</td>\n",
              "      <td>4fc04eb745c1498b0d23da17</td>\n",
              "      <td>883</td>\n",
              "      <td>1</td>\n",
              "      <td>NaN</td>\n",
              "      <td>NaN</td>\n",
              "    </tr>\n",
              "  </tbody>\n",
              "</table>\n",
              "</div>\n",
              "    <div class=\"colab-df-buttons\">\n",
              "\n",
              "  <div class=\"colab-df-container\">\n",
              "    <button class=\"colab-df-convert\" onclick=\"convertToInteractive('df-75ebb56d-9196-4a1f-ba34-32e513e3e5fa')\"\n",
              "            title=\"Convert this dataframe to an interactive table.\"\n",
              "            style=\"display:none;\">\n",
              "\n",
              "  <svg xmlns=\"http://www.w3.org/2000/svg\" height=\"24px\" viewBox=\"0 -960 960 960\">\n",
              "    <path d=\"M120-120v-720h720v720H120Zm60-500h600v-160H180v160Zm220 220h160v-160H400v160Zm0 220h160v-160H400v160ZM180-400h160v-160H180v160Zm440 0h160v-160H620v160ZM180-180h160v-160H180v160Zm440 0h160v-160H620v160Z\"/>\n",
              "  </svg>\n",
              "    </button>\n",
              "\n",
              "  <style>\n",
              "    .colab-df-container {\n",
              "      display:flex;\n",
              "      gap: 12px;\n",
              "    }\n",
              "\n",
              "    .colab-df-convert {\n",
              "      background-color: #E8F0FE;\n",
              "      border: none;\n",
              "      border-radius: 50%;\n",
              "      cursor: pointer;\n",
              "      display: none;\n",
              "      fill: #1967D2;\n",
              "      height: 32px;\n",
              "      padding: 0 0 0 0;\n",
              "      width: 32px;\n",
              "    }\n",
              "\n",
              "    .colab-df-convert:hover {\n",
              "      background-color: #E2EBFA;\n",
              "      box-shadow: 0px 1px 2px rgba(60, 64, 67, 0.3), 0px 1px 3px 1px rgba(60, 64, 67, 0.15);\n",
              "      fill: #174EA6;\n",
              "    }\n",
              "\n",
              "    .colab-df-buttons div {\n",
              "      margin-bottom: 4px;\n",
              "    }\n",
              "\n",
              "    [theme=dark] .colab-df-convert {\n",
              "      background-color: #3B4455;\n",
              "      fill: #D2E3FC;\n",
              "    }\n",
              "\n",
              "    [theme=dark] .colab-df-convert:hover {\n",
              "      background-color: #434B5C;\n",
              "      box-shadow: 0px 1px 3px 1px rgba(0, 0, 0, 0.15);\n",
              "      filter: drop-shadow(0px 1px 2px rgba(0, 0, 0, 0.3));\n",
              "      fill: #FFFFFF;\n",
              "    }\n",
              "  </style>\n",
              "\n",
              "    <script>\n",
              "      const buttonEl =\n",
              "        document.querySelector('#df-75ebb56d-9196-4a1f-ba34-32e513e3e5fa button.colab-df-convert');\n",
              "      buttonEl.style.display =\n",
              "        google.colab.kernel.accessAllowed ? 'block' : 'none';\n",
              "\n",
              "      async function convertToInteractive(key) {\n",
              "        const element = document.querySelector('#df-75ebb56d-9196-4a1f-ba34-32e513e3e5fa');\n",
              "        const dataTable =\n",
              "          await google.colab.kernel.invokeFunction('convertToInteractive',\n",
              "                                                    [key], {});\n",
              "        if (!dataTable) return;\n",
              "\n",
              "        const docLinkHtml = 'Like what you see? Visit the ' +\n",
              "          '<a target=\"_blank\" href=https://colab.research.google.com/notebooks/data_table.ipynb>data table notebook</a>'\n",
              "          + ' to learn more about interactive tables.';\n",
              "        element.innerHTML = '';\n",
              "        dataTable['output_type'] = 'display_data';\n",
              "        await google.colab.output.renderOutput(dataTable, element);\n",
              "        const docLink = document.createElement('div');\n",
              "        docLink.innerHTML = docLinkHtml;\n",
              "        element.appendChild(docLink);\n",
              "      }\n",
              "    </script>\n",
              "  </div>\n",
              "\n",
              "\n",
              "<div id=\"df-39aa7eae-7aba-47ea-bfee-6efe292f5a2c\">\n",
              "  <button class=\"colab-df-quickchart\" onclick=\"quickchart('df-39aa7eae-7aba-47ea-bfee-6efe292f5a2c')\"\n",
              "            title=\"Suggest charts\"\n",
              "            style=\"display:none;\">\n",
              "\n",
              "<svg xmlns=\"http://www.w3.org/2000/svg\" height=\"24px\"viewBox=\"0 0 24 24\"\n",
              "     width=\"24px\">\n",
              "    <g>\n",
              "        <path d=\"M19 3H5c-1.1 0-2 .9-2 2v14c0 1.1.9 2 2 2h14c1.1 0 2-.9 2-2V5c0-1.1-.9-2-2-2zM9 17H7v-7h2v7zm4 0h-2V7h2v10zm4 0h-2v-4h2v4z\"/>\n",
              "    </g>\n",
              "</svg>\n",
              "  </button>\n",
              "\n",
              "<style>\n",
              "  .colab-df-quickchart {\n",
              "      --bg-color: #E8F0FE;\n",
              "      --fill-color: #1967D2;\n",
              "      --hover-bg-color: #E2EBFA;\n",
              "      --hover-fill-color: #174EA6;\n",
              "      --disabled-fill-color: #AAA;\n",
              "      --disabled-bg-color: #DDD;\n",
              "  }\n",
              "\n",
              "  [theme=dark] .colab-df-quickchart {\n",
              "      --bg-color: #3B4455;\n",
              "      --fill-color: #D2E3FC;\n",
              "      --hover-bg-color: #434B5C;\n",
              "      --hover-fill-color: #FFFFFF;\n",
              "      --disabled-bg-color: #3B4455;\n",
              "      --disabled-fill-color: #666;\n",
              "  }\n",
              "\n",
              "  .colab-df-quickchart {\n",
              "    background-color: var(--bg-color);\n",
              "    border: none;\n",
              "    border-radius: 50%;\n",
              "    cursor: pointer;\n",
              "    display: none;\n",
              "    fill: var(--fill-color);\n",
              "    height: 32px;\n",
              "    padding: 0;\n",
              "    width: 32px;\n",
              "  }\n",
              "\n",
              "  .colab-df-quickchart:hover {\n",
              "    background-color: var(--hover-bg-color);\n",
              "    box-shadow: 0 1px 2px rgba(60, 64, 67, 0.3), 0 1px 3px 1px rgba(60, 64, 67, 0.15);\n",
              "    fill: var(--button-hover-fill-color);\n",
              "  }\n",
              "\n",
              "  .colab-df-quickchart-complete:disabled,\n",
              "  .colab-df-quickchart-complete:disabled:hover {\n",
              "    background-color: var(--disabled-bg-color);\n",
              "    fill: var(--disabled-fill-color);\n",
              "    box-shadow: none;\n",
              "  }\n",
              "\n",
              "  .colab-df-spinner {\n",
              "    border: 2px solid var(--fill-color);\n",
              "    border-color: transparent;\n",
              "    border-bottom-color: var(--fill-color);\n",
              "    animation:\n",
              "      spin 1s steps(1) infinite;\n",
              "  }\n",
              "\n",
              "  @keyframes spin {\n",
              "    0% {\n",
              "      border-color: transparent;\n",
              "      border-bottom-color: var(--fill-color);\n",
              "      border-left-color: var(--fill-color);\n",
              "    }\n",
              "    20% {\n",
              "      border-color: transparent;\n",
              "      border-left-color: var(--fill-color);\n",
              "      border-top-color: var(--fill-color);\n",
              "    }\n",
              "    30% {\n",
              "      border-color: transparent;\n",
              "      border-left-color: var(--fill-color);\n",
              "      border-top-color: var(--fill-color);\n",
              "      border-right-color: var(--fill-color);\n",
              "    }\n",
              "    40% {\n",
              "      border-color: transparent;\n",
              "      border-right-color: var(--fill-color);\n",
              "      border-top-color: var(--fill-color);\n",
              "    }\n",
              "    60% {\n",
              "      border-color: transparent;\n",
              "      border-right-color: var(--fill-color);\n",
              "    }\n",
              "    80% {\n",
              "      border-color: transparent;\n",
              "      border-right-color: var(--fill-color);\n",
              "      border-bottom-color: var(--fill-color);\n",
              "    }\n",
              "    90% {\n",
              "      border-color: transparent;\n",
              "      border-bottom-color: var(--fill-color);\n",
              "    }\n",
              "  }\n",
              "</style>\n",
              "\n",
              "  <script>\n",
              "    async function quickchart(key) {\n",
              "      const quickchartButtonEl =\n",
              "        document.querySelector('#' + key + ' button');\n",
              "      quickchartButtonEl.disabled = true;  // To prevent multiple clicks.\n",
              "      quickchartButtonEl.classList.add('colab-df-spinner');\n",
              "      try {\n",
              "        const charts = await google.colab.kernel.invokeFunction(\n",
              "            'suggestCharts', [key], {});\n",
              "      } catch (error) {\n",
              "        console.error('Error during call to suggestCharts:', error);\n",
              "      }\n",
              "      quickchartButtonEl.classList.remove('colab-df-spinner');\n",
              "      quickchartButtonEl.classList.add('colab-df-quickchart-complete');\n",
              "    }\n",
              "    (() => {\n",
              "      let quickchartButtonEl =\n",
              "        document.querySelector('#df-39aa7eae-7aba-47ea-bfee-6efe292f5a2c button');\n",
              "      quickchartButtonEl.style.display =\n",
              "        google.colab.kernel.accessAllowed ? 'block' : 'none';\n",
              "    })();\n",
              "  </script>\n",
              "</div>\n",
              "\n",
              "    </div>\n",
              "  </div>\n"
            ],
            "application/vnd.google.colaboratory.intrinsic+json": {
              "type": "dataframe",
              "summary": "{\n  \"name\": \"pd\",\n  \"rows\": 9,\n  \"fields\": [\n    {\n      \"column\": \"web_url\",\n      \"properties\": {\n        \"dtype\": \"string\",\n        \"num_unique_values\": 9,\n        \"samples\": [\n          \"https://query.nytimes.com/gst/abstract.html?res=9905E6DD153EE03BBC4C51DFB667838F659EDE\",\n          \"https://query.nytimes.com/gst/abstract.html?res=9E07E6DA1F3BE433A25750C2A9669D946593D6CF\",\n          \"https://query.nytimes.com/gst/abstract.html?res=9503EFDF153DE53ABC4C51DFB4678389669EDE\"\n        ],\n        \"semantic_type\": \"\",\n        \"description\": \"\"\n      }\n    },\n    {\n      \"column\": \"snippet\",\n      \"properties\": {\n        \"dtype\": \"string\",\n        \"num_unique_values\": 6,\n        \"samples\": [\n          \"Spent $22,200\",\n          \"\",\n          \"The employers and the unions have lined up in preparation for a long fight in the building war. An indication of the feeling that this will be a real fight is the appointment of a regular Press Committee by the employers. Members of their associat...\"\n        ],\n        \"semantic_type\": \"\",\n        \"description\": \"\"\n      }\n    },\n    {\n      \"column\": \"abstract\",\n      \"properties\": {\n        \"dtype\": \"category\",\n        \"num_unique_values\": 3,\n        \"samples\": [\n          \"Spent $22,200\",\n          \"Healy, Michael, will suit\",\n          \"housesmiths won't strike\"\n        ],\n        \"semantic_type\": \"\",\n        \"description\": \"\"\n      }\n    },\n    {\n      \"column\": \"print_page\",\n      \"properties\": {\n        \"dtype\": \"string\",\n        \"num_unique_values\": 7,\n        \"samples\": [\n          \"2\",\n          \"15\",\n          \"11\"\n        ],\n        \"semantic_type\": \"\",\n        \"description\": \"\"\n      }\n    },\n    {\n      \"column\": \"blog\",\n      \"properties\": {\n        \"dtype\": \"object\",\n        \"semantic_type\": \"\",\n        \"description\": \"\"\n      }\n    },\n    {\n      \"column\": \"source\",\n      \"properties\": {\n        \"dtype\": \"category\",\n        \"num_unique_values\": 1,\n        \"samples\": [\n          \"The New York Times\"\n        ],\n        \"semantic_type\": \"\",\n        \"description\": \"\"\n      }\n    },\n    {\n      \"column\": \"multimedia\",\n      \"properties\": {\n        \"dtype\": \"object\",\n        \"semantic_type\": \"\",\n        \"description\": \"\"\n      }\n    },\n    {\n      \"column\": \"headline\",\n      \"properties\": {\n        \"dtype\": \"object\",\n        \"semantic_type\": \"\",\n        \"description\": \"\"\n      }\n    },\n    {\n      \"column\": \"keywords\",\n      \"properties\": {\n        \"dtype\": \"object\",\n        \"semantic_type\": \"\",\n        \"description\": \"\"\n      }\n    },\n    {\n      \"column\": \"pub_date\",\n      \"properties\": {\n        \"dtype\": \"object\",\n        \"num_unique_values\": 9,\n        \"samples\": [\n          \"1944-10-24T00:00:00Z\"\n        ],\n        \"semantic_type\": \"\",\n        \"description\": \"\"\n      }\n    },\n    {\n      \"column\": \"document_type\",\n      \"properties\": {\n        \"dtype\": \"category\",\n        \"num_unique_values\": 1,\n        \"samples\": [\n          \"article\"\n        ],\n        \"semantic_type\": \"\",\n        \"description\": \"\"\n      }\n    },\n    {\n      \"column\": \"type_of_material\",\n      \"properties\": {\n        \"dtype\": \"category\",\n        \"num_unique_values\": 3,\n        \"samples\": [\n          \"Article\"\n        ],\n        \"semantic_type\": \"\",\n        \"description\": \"\"\n      }\n    },\n    {\n      \"column\": \"_id\",\n      \"properties\": {\n        \"dtype\": \"string\",\n        \"num_unique_values\": 9,\n        \"samples\": [\n          \"4fc21ebf45c1498b0d612b3c\"\n        ],\n        \"semantic_type\": \"\",\n        \"description\": \"\"\n      }\n    },\n    {\n      \"column\": \"word_count\",\n      \"properties\": {\n        \"dtype\": \"number\",\n        \"std\": 826,\n        \"min\": 29,\n        \"max\": 2609,\n        \"num_unique_values\": 9,\n        \"samples\": [\n          29\n        ],\n        \"semantic_type\": \"\",\n        \"description\": \"\"\n      }\n    },\n    {\n      \"column\": \"score\",\n      \"properties\": {\n        \"dtype\": \"number\",\n        \"std\": 0,\n        \"min\": 1,\n        \"max\": 1,\n        \"num_unique_values\": 1,\n        \"samples\": [\n          1\n        ],\n        \"semantic_type\": \"\",\n        \"description\": \"\"\n      }\n    },\n    {\n      \"column\": \"byline\",\n      \"properties\": {\n        \"dtype\": \"object\",\n        \"semantic_type\": \"\",\n        \"description\": \"\"\n      }\n    },\n    {\n      \"column\": \"news_desk\",\n      \"properties\": {\n        \"dtype\": \"category\",\n        \"num_unique_values\": 1,\n        \"samples\": [\n          \"Financial Desk\"\n        ],\n        \"semantic_type\": \"\",\n        \"description\": \"\"\n      }\n    }\n  ]\n}"
            }
          },
          "metadata": {},
          "execution_count": 19
        }
      ],
      "source": [
        "import pandas as pd\n",
        "\n",
        "pd.set_option(\"max_colwidth\", 120)\n",
        "pd.DataFrame(data['response']['docs'])"
      ]
    },
    {
      "cell_type": "markdown",
      "metadata": {
        "id": "GGFbYeh6rXiG"
      },
      "source": [
        "Note that because the value associated with the `'headline'` key is a dictionary, it is displayed in this crowded, messy way within the DataFrame, including `{` and `'` characters."
      ]
    },
    {
      "cell_type": "markdown",
      "metadata": {
        "id": "OiCjNqBSrXiG"
      },
      "source": [
        "### Viewing the Flattened Info List\n",
        "\n",
        "Because `doc_info_list` is already flattened so the value associated with each key is just a number or string, it looks much neater when loaded into pandas:\n",
        "\n",
        "> In the cell below, type the following code to create a DataFrame from `doc_info_list`:\n",
        "\n",
        "```\n",
        "pd.DataFrame(doc_info_list)\n",
        "```"
      ]
    },
    {
      "cell_type": "code",
      "execution_count": 20,
      "metadata": {
        "id": "0j7p8UpkrXiG",
        "outputId": "6b88073e-6a61-4570-fc15-994267003e8d",
        "colab": {
          "base_uri": "https://localhost:8080/",
          "height": 332
        }
      },
      "outputs": [
        {
          "output_type": "execute_result",
          "data": {
            "text/plain": [
              "                                                                                                             headline_main  \\\n",
              "0                                    HIGGINS, SPENT $22,189.53.; Governor-Elect's Election Expenses -- Harrison $9,220.28.   \n",
              "1                                                    GARDEN BOUTS CANCELED; Mauriello Says He Could Not Be Ready on Nov. 3   \n",
              "2                                   Stock Drop Is Biggest in 2 Months--Margin Rise Held Factor in Lightest Trading of 1955   \n",
              "3                                                                                                        MUSIC OF THE WEEK   \n",
              "4                                                                        Anacomp Inc. reports earnings for Qtr to March 31   \n",
              "5                                                                                                   Brooklyn Routs Yeshiva   \n",
              "6                                                                                Albuquerque Program Gives Drinkers a Lift   \n",
              "7                                                                                                 Front Page 7 -- No Title   \n",
              "8  UNIONS AND BUILDERS READY FOR LONG FIGHT; None of the Strikers Back - Lock-Out Soon in Effect. 23,000 ALREADY INVOLV...   \n",
              "\n",
              "  headline_kicker              pub_date  word_count  \n",
              "0            None  1904-11-17T00:00:00Z         213  \n",
              "1               1  1944-10-23T00:00:00Z         149  \n",
              "2               1  1955-05-15T00:00:00Z         823  \n",
              "3            None  1904-11-06T00:00:00Z        2609  \n",
              "4            None  1992-05-06T00:00:00Z         129  \n",
              "5               1  1972-12-24T00:00:00Z         144  \n",
              "6               1  1972-12-25T00:00:00Z         151  \n",
              "7               1  1944-10-24T00:00:00Z          29  \n",
              "8            None  1904-08-06T00:00:00Z         883  "
            ],
            "text/html": [
              "\n",
              "  <div id=\"df-ad20a62a-98e2-404e-b67b-681768c918da\" class=\"colab-df-container\">\n",
              "    <div>\n",
              "<style scoped>\n",
              "    .dataframe tbody tr th:only-of-type {\n",
              "        vertical-align: middle;\n",
              "    }\n",
              "\n",
              "    .dataframe tbody tr th {\n",
              "        vertical-align: top;\n",
              "    }\n",
              "\n",
              "    .dataframe thead th {\n",
              "        text-align: right;\n",
              "    }\n",
              "</style>\n",
              "<table border=\"1\" class=\"dataframe\">\n",
              "  <thead>\n",
              "    <tr style=\"text-align: right;\">\n",
              "      <th></th>\n",
              "      <th>headline_main</th>\n",
              "      <th>headline_kicker</th>\n",
              "      <th>pub_date</th>\n",
              "      <th>word_count</th>\n",
              "    </tr>\n",
              "  </thead>\n",
              "  <tbody>\n",
              "    <tr>\n",
              "      <th>0</th>\n",
              "      <td>HIGGINS, SPENT $22,189.53.; Governor-Elect's Election Expenses -- Harrison $9,220.28.</td>\n",
              "      <td>None</td>\n",
              "      <td>1904-11-17T00:00:00Z</td>\n",
              "      <td>213</td>\n",
              "    </tr>\n",
              "    <tr>\n",
              "      <th>1</th>\n",
              "      <td>GARDEN BOUTS CANCELED; Mauriello Says He Could Not Be Ready on Nov. 3</td>\n",
              "      <td>1</td>\n",
              "      <td>1944-10-23T00:00:00Z</td>\n",
              "      <td>149</td>\n",
              "    </tr>\n",
              "    <tr>\n",
              "      <th>2</th>\n",
              "      <td>Stock Drop Is Biggest in 2 Months--Margin Rise Held Factor in Lightest Trading of 1955</td>\n",
              "      <td>1</td>\n",
              "      <td>1955-05-15T00:00:00Z</td>\n",
              "      <td>823</td>\n",
              "    </tr>\n",
              "    <tr>\n",
              "      <th>3</th>\n",
              "      <td>MUSIC OF THE WEEK</td>\n",
              "      <td>None</td>\n",
              "      <td>1904-11-06T00:00:00Z</td>\n",
              "      <td>2609</td>\n",
              "    </tr>\n",
              "    <tr>\n",
              "      <th>4</th>\n",
              "      <td>Anacomp Inc. reports earnings for Qtr to March 31</td>\n",
              "      <td>None</td>\n",
              "      <td>1992-05-06T00:00:00Z</td>\n",
              "      <td>129</td>\n",
              "    </tr>\n",
              "    <tr>\n",
              "      <th>5</th>\n",
              "      <td>Brooklyn Routs Yeshiva</td>\n",
              "      <td>1</td>\n",
              "      <td>1972-12-24T00:00:00Z</td>\n",
              "      <td>144</td>\n",
              "    </tr>\n",
              "    <tr>\n",
              "      <th>6</th>\n",
              "      <td>Albuquerque Program Gives Drinkers a Lift</td>\n",
              "      <td>1</td>\n",
              "      <td>1972-12-25T00:00:00Z</td>\n",
              "      <td>151</td>\n",
              "    </tr>\n",
              "    <tr>\n",
              "      <th>7</th>\n",
              "      <td>Front Page 7 -- No Title</td>\n",
              "      <td>1</td>\n",
              "      <td>1944-10-24T00:00:00Z</td>\n",
              "      <td>29</td>\n",
              "    </tr>\n",
              "    <tr>\n",
              "      <th>8</th>\n",
              "      <td>UNIONS AND BUILDERS READY FOR LONG FIGHT; None of the Strikers Back - Lock-Out Soon in Effect. 23,000 ALREADY INVOLV...</td>\n",
              "      <td>None</td>\n",
              "      <td>1904-08-06T00:00:00Z</td>\n",
              "      <td>883</td>\n",
              "    </tr>\n",
              "  </tbody>\n",
              "</table>\n",
              "</div>\n",
              "    <div class=\"colab-df-buttons\">\n",
              "\n",
              "  <div class=\"colab-df-container\">\n",
              "    <button class=\"colab-df-convert\" onclick=\"convertToInteractive('df-ad20a62a-98e2-404e-b67b-681768c918da')\"\n",
              "            title=\"Convert this dataframe to an interactive table.\"\n",
              "            style=\"display:none;\">\n",
              "\n",
              "  <svg xmlns=\"http://www.w3.org/2000/svg\" height=\"24px\" viewBox=\"0 -960 960 960\">\n",
              "    <path d=\"M120-120v-720h720v720H120Zm60-500h600v-160H180v160Zm220 220h160v-160H400v160Zm0 220h160v-160H400v160ZM180-400h160v-160H180v160Zm440 0h160v-160H620v160ZM180-180h160v-160H180v160Zm440 0h160v-160H620v160Z\"/>\n",
              "  </svg>\n",
              "    </button>\n",
              "\n",
              "  <style>\n",
              "    .colab-df-container {\n",
              "      display:flex;\n",
              "      gap: 12px;\n",
              "    }\n",
              "\n",
              "    .colab-df-convert {\n",
              "      background-color: #E8F0FE;\n",
              "      border: none;\n",
              "      border-radius: 50%;\n",
              "      cursor: pointer;\n",
              "      display: none;\n",
              "      fill: #1967D2;\n",
              "      height: 32px;\n",
              "      padding: 0 0 0 0;\n",
              "      width: 32px;\n",
              "    }\n",
              "\n",
              "    .colab-df-convert:hover {\n",
              "      background-color: #E2EBFA;\n",
              "      box-shadow: 0px 1px 2px rgba(60, 64, 67, 0.3), 0px 1px 3px 1px rgba(60, 64, 67, 0.15);\n",
              "      fill: #174EA6;\n",
              "    }\n",
              "\n",
              "    .colab-df-buttons div {\n",
              "      margin-bottom: 4px;\n",
              "    }\n",
              "\n",
              "    [theme=dark] .colab-df-convert {\n",
              "      background-color: #3B4455;\n",
              "      fill: #D2E3FC;\n",
              "    }\n",
              "\n",
              "    [theme=dark] .colab-df-convert:hover {\n",
              "      background-color: #434B5C;\n",
              "      box-shadow: 0px 1px 3px 1px rgba(0, 0, 0, 0.15);\n",
              "      filter: drop-shadow(0px 1px 2px rgba(0, 0, 0, 0.3));\n",
              "      fill: #FFFFFF;\n",
              "    }\n",
              "  </style>\n",
              "\n",
              "    <script>\n",
              "      const buttonEl =\n",
              "        document.querySelector('#df-ad20a62a-98e2-404e-b67b-681768c918da button.colab-df-convert');\n",
              "      buttonEl.style.display =\n",
              "        google.colab.kernel.accessAllowed ? 'block' : 'none';\n",
              "\n",
              "      async function convertToInteractive(key) {\n",
              "        const element = document.querySelector('#df-ad20a62a-98e2-404e-b67b-681768c918da');\n",
              "        const dataTable =\n",
              "          await google.colab.kernel.invokeFunction('convertToInteractive',\n",
              "                                                    [key], {});\n",
              "        if (!dataTable) return;\n",
              "\n",
              "        const docLinkHtml = 'Like what you see? Visit the ' +\n",
              "          '<a target=\"_blank\" href=https://colab.research.google.com/notebooks/data_table.ipynb>data table notebook</a>'\n",
              "          + ' to learn more about interactive tables.';\n",
              "        element.innerHTML = '';\n",
              "        dataTable['output_type'] = 'display_data';\n",
              "        await google.colab.output.renderOutput(dataTable, element);\n",
              "        const docLink = document.createElement('div');\n",
              "        docLink.innerHTML = docLinkHtml;\n",
              "        element.appendChild(docLink);\n",
              "      }\n",
              "    </script>\n",
              "  </div>\n",
              "\n",
              "\n",
              "<div id=\"df-e221c79b-254a-442e-be42-00a2caff5752\">\n",
              "  <button class=\"colab-df-quickchart\" onclick=\"quickchart('df-e221c79b-254a-442e-be42-00a2caff5752')\"\n",
              "            title=\"Suggest charts\"\n",
              "            style=\"display:none;\">\n",
              "\n",
              "<svg xmlns=\"http://www.w3.org/2000/svg\" height=\"24px\"viewBox=\"0 0 24 24\"\n",
              "     width=\"24px\">\n",
              "    <g>\n",
              "        <path d=\"M19 3H5c-1.1 0-2 .9-2 2v14c0 1.1.9 2 2 2h14c1.1 0 2-.9 2-2V5c0-1.1-.9-2-2-2zM9 17H7v-7h2v7zm4 0h-2V7h2v10zm4 0h-2v-4h2v4z\"/>\n",
              "    </g>\n",
              "</svg>\n",
              "  </button>\n",
              "\n",
              "<style>\n",
              "  .colab-df-quickchart {\n",
              "      --bg-color: #E8F0FE;\n",
              "      --fill-color: #1967D2;\n",
              "      --hover-bg-color: #E2EBFA;\n",
              "      --hover-fill-color: #174EA6;\n",
              "      --disabled-fill-color: #AAA;\n",
              "      --disabled-bg-color: #DDD;\n",
              "  }\n",
              "\n",
              "  [theme=dark] .colab-df-quickchart {\n",
              "      --bg-color: #3B4455;\n",
              "      --fill-color: #D2E3FC;\n",
              "      --hover-bg-color: #434B5C;\n",
              "      --hover-fill-color: #FFFFFF;\n",
              "      --disabled-bg-color: #3B4455;\n",
              "      --disabled-fill-color: #666;\n",
              "  }\n",
              "\n",
              "  .colab-df-quickchart {\n",
              "    background-color: var(--bg-color);\n",
              "    border: none;\n",
              "    border-radius: 50%;\n",
              "    cursor: pointer;\n",
              "    display: none;\n",
              "    fill: var(--fill-color);\n",
              "    height: 32px;\n",
              "    padding: 0;\n",
              "    width: 32px;\n",
              "  }\n",
              "\n",
              "  .colab-df-quickchart:hover {\n",
              "    background-color: var(--hover-bg-color);\n",
              "    box-shadow: 0 1px 2px rgba(60, 64, 67, 0.3), 0 1px 3px 1px rgba(60, 64, 67, 0.15);\n",
              "    fill: var(--button-hover-fill-color);\n",
              "  }\n",
              "\n",
              "  .colab-df-quickchart-complete:disabled,\n",
              "  .colab-df-quickchart-complete:disabled:hover {\n",
              "    background-color: var(--disabled-bg-color);\n",
              "    fill: var(--disabled-fill-color);\n",
              "    box-shadow: none;\n",
              "  }\n",
              "\n",
              "  .colab-df-spinner {\n",
              "    border: 2px solid var(--fill-color);\n",
              "    border-color: transparent;\n",
              "    border-bottom-color: var(--fill-color);\n",
              "    animation:\n",
              "      spin 1s steps(1) infinite;\n",
              "  }\n",
              "\n",
              "  @keyframes spin {\n",
              "    0% {\n",
              "      border-color: transparent;\n",
              "      border-bottom-color: var(--fill-color);\n",
              "      border-left-color: var(--fill-color);\n",
              "    }\n",
              "    20% {\n",
              "      border-color: transparent;\n",
              "      border-left-color: var(--fill-color);\n",
              "      border-top-color: var(--fill-color);\n",
              "    }\n",
              "    30% {\n",
              "      border-color: transparent;\n",
              "      border-left-color: var(--fill-color);\n",
              "      border-top-color: var(--fill-color);\n",
              "      border-right-color: var(--fill-color);\n",
              "    }\n",
              "    40% {\n",
              "      border-color: transparent;\n",
              "      border-right-color: var(--fill-color);\n",
              "      border-top-color: var(--fill-color);\n",
              "    }\n",
              "    60% {\n",
              "      border-color: transparent;\n",
              "      border-right-color: var(--fill-color);\n",
              "    }\n",
              "    80% {\n",
              "      border-color: transparent;\n",
              "      border-right-color: var(--fill-color);\n",
              "      border-bottom-color: var(--fill-color);\n",
              "    }\n",
              "    90% {\n",
              "      border-color: transparent;\n",
              "      border-bottom-color: var(--fill-color);\n",
              "    }\n",
              "  }\n",
              "</style>\n",
              "\n",
              "  <script>\n",
              "    async function quickchart(key) {\n",
              "      const quickchartButtonEl =\n",
              "        document.querySelector('#' + key + ' button');\n",
              "      quickchartButtonEl.disabled = true;  // To prevent multiple clicks.\n",
              "      quickchartButtonEl.classList.add('colab-df-spinner');\n",
              "      try {\n",
              "        const charts = await google.colab.kernel.invokeFunction(\n",
              "            'suggestCharts', [key], {});\n",
              "      } catch (error) {\n",
              "        console.error('Error during call to suggestCharts:', error);\n",
              "      }\n",
              "      quickchartButtonEl.classList.remove('colab-df-spinner');\n",
              "      quickchartButtonEl.classList.add('colab-df-quickchart-complete');\n",
              "    }\n",
              "    (() => {\n",
              "      let quickchartButtonEl =\n",
              "        document.querySelector('#df-e221c79b-254a-442e-be42-00a2caff5752 button');\n",
              "      quickchartButtonEl.style.display =\n",
              "        google.colab.kernel.accessAllowed ? 'block' : 'none';\n",
              "    })();\n",
              "  </script>\n",
              "</div>\n",
              "\n",
              "    </div>\n",
              "  </div>\n"
            ],
            "application/vnd.google.colaboratory.intrinsic+json": {
              "type": "dataframe",
              "summary": "{\n  \"name\": \"pd\",\n  \"rows\": 9,\n  \"fields\": [\n    {\n      \"column\": \"headline_main\",\n      \"properties\": {\n        \"dtype\": \"string\",\n        \"num_unique_values\": 9,\n        \"samples\": [\n          \"Front Page 7 -- No Title\",\n          \"GARDEN BOUTS CANCELED; Mauriello Says He Could Not Be Ready on Nov. 3\",\n          \"Brooklyn Routs Yeshiva\"\n        ],\n        \"semantic_type\": \"\",\n        \"description\": \"\"\n      }\n    },\n    {\n      \"column\": \"headline_kicker\",\n      \"properties\": {\n        \"dtype\": \"category\",\n        \"num_unique_values\": 1,\n        \"samples\": [\n          \"1\"\n        ],\n        \"semantic_type\": \"\",\n        \"description\": \"\"\n      }\n    },\n    {\n      \"column\": \"pub_date\",\n      \"properties\": {\n        \"dtype\": \"object\",\n        \"num_unique_values\": 9,\n        \"samples\": [\n          \"1944-10-24T00:00:00Z\"\n        ],\n        \"semantic_type\": \"\",\n        \"description\": \"\"\n      }\n    },\n    {\n      \"column\": \"word_count\",\n      \"properties\": {\n        \"dtype\": \"number\",\n        \"std\": 826,\n        \"min\": 29,\n        \"max\": 2609,\n        \"num_unique_values\": 9,\n        \"samples\": [\n          29\n        ],\n        \"semantic_type\": \"\",\n        \"description\": \"\"\n      }\n    }\n  ]\n}"
            }
          },
          "metadata": {},
          "execution_count": 20
        }
      ],
      "source": [
        "pd.DataFrame(doc_info_list)"
      ]
    },
    {
      "cell_type": "markdown",
      "metadata": {
        "id": "yLbt0zYZrXiG"
      },
      "source": [
        "We could also re-create this from the raw data using pandas rather than base Python:\n",
        "\n",
        "> In the cell below, type the following code to create the DataFrame using pandas:\n",
        "\n",
        "First, create a DataFrame of the raw docs info:\n",
        "```\n",
        "df = pd.DataFrame(data['response']['docs'])\n",
        "```\n",
        "Next, make new columns for `headline_main` and `headline_kicker`\n",
        "```\n",
        "df['headline_main'] = df['headline'].apply(lambda headline_dict: headline_dict['main'])\n",
        "df['headline_kicker'] = df['headline'].apply(lambda headline_dict: headline_dict['kicker'])\n",
        "```\n",
        "Finally, subset to only the relevent columns and display the DataFrame and then display the DataFrame:\n",
        "```\n",
        "df = df[['headline_main', 'headline_kicker', 'pub_date', 'word_count']]\n",
        "df\n",
        "```"
      ]
    },
    {
      "cell_type": "code",
      "execution_count": null,
      "metadata": {
        "id": "uyELd8d6rXiH"
      },
      "outputs": [],
      "source": []
    },
    {
      "cell_type": "code",
      "execution_count": 21,
      "metadata": {
        "id": "9hOqWTv4rXiH",
        "outputId": "8933a36f-d4d2-48c9-e86e-4d0ca5908e32",
        "colab": {
          "base_uri": "https://localhost:8080/",
          "height": 332
        }
      },
      "outputs": [
        {
          "output_type": "execute_result",
          "data": {
            "text/plain": [
              "                                                                                                             headline_main  \\\n",
              "0                                    HIGGINS, SPENT $22,189.53.; Governor-Elect's Election Expenses -- Harrison $9,220.28.   \n",
              "1                                                    GARDEN BOUTS CANCELED; Mauriello Says He Could Not Be Ready on Nov. 3   \n",
              "2                                   Stock Drop Is Biggest in 2 Months--Margin Rise Held Factor in Lightest Trading of 1955   \n",
              "3                                                                                                        MUSIC OF THE WEEK   \n",
              "4                                                                        Anacomp Inc. reports earnings for Qtr to March 31   \n",
              "5                                                                                                   Brooklyn Routs Yeshiva   \n",
              "6                                                                                Albuquerque Program Gives Drinkers a Lift   \n",
              "7                                                                                                 Front Page 7 -- No Title   \n",
              "8  UNIONS AND BUILDERS READY FOR LONG FIGHT; None of the Strikers Back - Lock-Out Soon in Effect. 23,000 ALREADY INVOLV...   \n",
              "\n",
              "  headline_kicker              pub_date  word_count  \n",
              "0            None  1904-11-17T00:00:00Z         213  \n",
              "1               1  1944-10-23T00:00:00Z         149  \n",
              "2               1  1955-05-15T00:00:00Z         823  \n",
              "3            None  1904-11-06T00:00:00Z        2609  \n",
              "4            None  1992-05-06T00:00:00Z         129  \n",
              "5               1  1972-12-24T00:00:00Z         144  \n",
              "6               1  1972-12-25T00:00:00Z         151  \n",
              "7               1  1944-10-24T00:00:00Z          29  \n",
              "8            None  1904-08-06T00:00:00Z         883  "
            ],
            "text/html": [
              "\n",
              "  <div id=\"df-bdfa707f-5b94-4ee4-86a7-6afb8d488179\" class=\"colab-df-container\">\n",
              "    <div>\n",
              "<style scoped>\n",
              "    .dataframe tbody tr th:only-of-type {\n",
              "        vertical-align: middle;\n",
              "    }\n",
              "\n",
              "    .dataframe tbody tr th {\n",
              "        vertical-align: top;\n",
              "    }\n",
              "\n",
              "    .dataframe thead th {\n",
              "        text-align: right;\n",
              "    }\n",
              "</style>\n",
              "<table border=\"1\" class=\"dataframe\">\n",
              "  <thead>\n",
              "    <tr style=\"text-align: right;\">\n",
              "      <th></th>\n",
              "      <th>headline_main</th>\n",
              "      <th>headline_kicker</th>\n",
              "      <th>pub_date</th>\n",
              "      <th>word_count</th>\n",
              "    </tr>\n",
              "  </thead>\n",
              "  <tbody>\n",
              "    <tr>\n",
              "      <th>0</th>\n",
              "      <td>HIGGINS, SPENT $22,189.53.; Governor-Elect's Election Expenses -- Harrison $9,220.28.</td>\n",
              "      <td>None</td>\n",
              "      <td>1904-11-17T00:00:00Z</td>\n",
              "      <td>213</td>\n",
              "    </tr>\n",
              "    <tr>\n",
              "      <th>1</th>\n",
              "      <td>GARDEN BOUTS CANCELED; Mauriello Says He Could Not Be Ready on Nov. 3</td>\n",
              "      <td>1</td>\n",
              "      <td>1944-10-23T00:00:00Z</td>\n",
              "      <td>149</td>\n",
              "    </tr>\n",
              "    <tr>\n",
              "      <th>2</th>\n",
              "      <td>Stock Drop Is Biggest in 2 Months--Margin Rise Held Factor in Lightest Trading of 1955</td>\n",
              "      <td>1</td>\n",
              "      <td>1955-05-15T00:00:00Z</td>\n",
              "      <td>823</td>\n",
              "    </tr>\n",
              "    <tr>\n",
              "      <th>3</th>\n",
              "      <td>MUSIC OF THE WEEK</td>\n",
              "      <td>None</td>\n",
              "      <td>1904-11-06T00:00:00Z</td>\n",
              "      <td>2609</td>\n",
              "    </tr>\n",
              "    <tr>\n",
              "      <th>4</th>\n",
              "      <td>Anacomp Inc. reports earnings for Qtr to March 31</td>\n",
              "      <td>None</td>\n",
              "      <td>1992-05-06T00:00:00Z</td>\n",
              "      <td>129</td>\n",
              "    </tr>\n",
              "    <tr>\n",
              "      <th>5</th>\n",
              "      <td>Brooklyn Routs Yeshiva</td>\n",
              "      <td>1</td>\n",
              "      <td>1972-12-24T00:00:00Z</td>\n",
              "      <td>144</td>\n",
              "    </tr>\n",
              "    <tr>\n",
              "      <th>6</th>\n",
              "      <td>Albuquerque Program Gives Drinkers a Lift</td>\n",
              "      <td>1</td>\n",
              "      <td>1972-12-25T00:00:00Z</td>\n",
              "      <td>151</td>\n",
              "    </tr>\n",
              "    <tr>\n",
              "      <th>7</th>\n",
              "      <td>Front Page 7 -- No Title</td>\n",
              "      <td>1</td>\n",
              "      <td>1944-10-24T00:00:00Z</td>\n",
              "      <td>29</td>\n",
              "    </tr>\n",
              "    <tr>\n",
              "      <th>8</th>\n",
              "      <td>UNIONS AND BUILDERS READY FOR LONG FIGHT; None of the Strikers Back - Lock-Out Soon in Effect. 23,000 ALREADY INVOLV...</td>\n",
              "      <td>None</td>\n",
              "      <td>1904-08-06T00:00:00Z</td>\n",
              "      <td>883</td>\n",
              "    </tr>\n",
              "  </tbody>\n",
              "</table>\n",
              "</div>\n",
              "    <div class=\"colab-df-buttons\">\n",
              "\n",
              "  <div class=\"colab-df-container\">\n",
              "    <button class=\"colab-df-convert\" onclick=\"convertToInteractive('df-bdfa707f-5b94-4ee4-86a7-6afb8d488179')\"\n",
              "            title=\"Convert this dataframe to an interactive table.\"\n",
              "            style=\"display:none;\">\n",
              "\n",
              "  <svg xmlns=\"http://www.w3.org/2000/svg\" height=\"24px\" viewBox=\"0 -960 960 960\">\n",
              "    <path d=\"M120-120v-720h720v720H120Zm60-500h600v-160H180v160Zm220 220h160v-160H400v160Zm0 220h160v-160H400v160ZM180-400h160v-160H180v160Zm440 0h160v-160H620v160ZM180-180h160v-160H180v160Zm440 0h160v-160H620v160Z\"/>\n",
              "  </svg>\n",
              "    </button>\n",
              "\n",
              "  <style>\n",
              "    .colab-df-container {\n",
              "      display:flex;\n",
              "      gap: 12px;\n",
              "    }\n",
              "\n",
              "    .colab-df-convert {\n",
              "      background-color: #E8F0FE;\n",
              "      border: none;\n",
              "      border-radius: 50%;\n",
              "      cursor: pointer;\n",
              "      display: none;\n",
              "      fill: #1967D2;\n",
              "      height: 32px;\n",
              "      padding: 0 0 0 0;\n",
              "      width: 32px;\n",
              "    }\n",
              "\n",
              "    .colab-df-convert:hover {\n",
              "      background-color: #E2EBFA;\n",
              "      box-shadow: 0px 1px 2px rgba(60, 64, 67, 0.3), 0px 1px 3px 1px rgba(60, 64, 67, 0.15);\n",
              "      fill: #174EA6;\n",
              "    }\n",
              "\n",
              "    .colab-df-buttons div {\n",
              "      margin-bottom: 4px;\n",
              "    }\n",
              "\n",
              "    [theme=dark] .colab-df-convert {\n",
              "      background-color: #3B4455;\n",
              "      fill: #D2E3FC;\n",
              "    }\n",
              "\n",
              "    [theme=dark] .colab-df-convert:hover {\n",
              "      background-color: #434B5C;\n",
              "      box-shadow: 0px 1px 3px 1px rgba(0, 0, 0, 0.15);\n",
              "      filter: drop-shadow(0px 1px 2px rgba(0, 0, 0, 0.3));\n",
              "      fill: #FFFFFF;\n",
              "    }\n",
              "  </style>\n",
              "\n",
              "    <script>\n",
              "      const buttonEl =\n",
              "        document.querySelector('#df-bdfa707f-5b94-4ee4-86a7-6afb8d488179 button.colab-df-convert');\n",
              "      buttonEl.style.display =\n",
              "        google.colab.kernel.accessAllowed ? 'block' : 'none';\n",
              "\n",
              "      async function convertToInteractive(key) {\n",
              "        const element = document.querySelector('#df-bdfa707f-5b94-4ee4-86a7-6afb8d488179');\n",
              "        const dataTable =\n",
              "          await google.colab.kernel.invokeFunction('convertToInteractive',\n",
              "                                                    [key], {});\n",
              "        if (!dataTable) return;\n",
              "\n",
              "        const docLinkHtml = 'Like what you see? Visit the ' +\n",
              "          '<a target=\"_blank\" href=https://colab.research.google.com/notebooks/data_table.ipynb>data table notebook</a>'\n",
              "          + ' to learn more about interactive tables.';\n",
              "        element.innerHTML = '';\n",
              "        dataTable['output_type'] = 'display_data';\n",
              "        await google.colab.output.renderOutput(dataTable, element);\n",
              "        const docLink = document.createElement('div');\n",
              "        docLink.innerHTML = docLinkHtml;\n",
              "        element.appendChild(docLink);\n",
              "      }\n",
              "    </script>\n",
              "  </div>\n",
              "\n",
              "\n",
              "<div id=\"df-2aaa1d09-a764-4e2e-95e1-70ab512e1850\">\n",
              "  <button class=\"colab-df-quickchart\" onclick=\"quickchart('df-2aaa1d09-a764-4e2e-95e1-70ab512e1850')\"\n",
              "            title=\"Suggest charts\"\n",
              "            style=\"display:none;\">\n",
              "\n",
              "<svg xmlns=\"http://www.w3.org/2000/svg\" height=\"24px\"viewBox=\"0 0 24 24\"\n",
              "     width=\"24px\">\n",
              "    <g>\n",
              "        <path d=\"M19 3H5c-1.1 0-2 .9-2 2v14c0 1.1.9 2 2 2h14c1.1 0 2-.9 2-2V5c0-1.1-.9-2-2-2zM9 17H7v-7h2v7zm4 0h-2V7h2v10zm4 0h-2v-4h2v4z\"/>\n",
              "    </g>\n",
              "</svg>\n",
              "  </button>\n",
              "\n",
              "<style>\n",
              "  .colab-df-quickchart {\n",
              "      --bg-color: #E8F0FE;\n",
              "      --fill-color: #1967D2;\n",
              "      --hover-bg-color: #E2EBFA;\n",
              "      --hover-fill-color: #174EA6;\n",
              "      --disabled-fill-color: #AAA;\n",
              "      --disabled-bg-color: #DDD;\n",
              "  }\n",
              "\n",
              "  [theme=dark] .colab-df-quickchart {\n",
              "      --bg-color: #3B4455;\n",
              "      --fill-color: #D2E3FC;\n",
              "      --hover-bg-color: #434B5C;\n",
              "      --hover-fill-color: #FFFFFF;\n",
              "      --disabled-bg-color: #3B4455;\n",
              "      --disabled-fill-color: #666;\n",
              "  }\n",
              "\n",
              "  .colab-df-quickchart {\n",
              "    background-color: var(--bg-color);\n",
              "    border: none;\n",
              "    border-radius: 50%;\n",
              "    cursor: pointer;\n",
              "    display: none;\n",
              "    fill: var(--fill-color);\n",
              "    height: 32px;\n",
              "    padding: 0;\n",
              "    width: 32px;\n",
              "  }\n",
              "\n",
              "  .colab-df-quickchart:hover {\n",
              "    background-color: var(--hover-bg-color);\n",
              "    box-shadow: 0 1px 2px rgba(60, 64, 67, 0.3), 0 1px 3px 1px rgba(60, 64, 67, 0.15);\n",
              "    fill: var(--button-hover-fill-color);\n",
              "  }\n",
              "\n",
              "  .colab-df-quickchart-complete:disabled,\n",
              "  .colab-df-quickchart-complete:disabled:hover {\n",
              "    background-color: var(--disabled-bg-color);\n",
              "    fill: var(--disabled-fill-color);\n",
              "    box-shadow: none;\n",
              "  }\n",
              "\n",
              "  .colab-df-spinner {\n",
              "    border: 2px solid var(--fill-color);\n",
              "    border-color: transparent;\n",
              "    border-bottom-color: var(--fill-color);\n",
              "    animation:\n",
              "      spin 1s steps(1) infinite;\n",
              "  }\n",
              "\n",
              "  @keyframes spin {\n",
              "    0% {\n",
              "      border-color: transparent;\n",
              "      border-bottom-color: var(--fill-color);\n",
              "      border-left-color: var(--fill-color);\n",
              "    }\n",
              "    20% {\n",
              "      border-color: transparent;\n",
              "      border-left-color: var(--fill-color);\n",
              "      border-top-color: var(--fill-color);\n",
              "    }\n",
              "    30% {\n",
              "      border-color: transparent;\n",
              "      border-left-color: var(--fill-color);\n",
              "      border-top-color: var(--fill-color);\n",
              "      border-right-color: var(--fill-color);\n",
              "    }\n",
              "    40% {\n",
              "      border-color: transparent;\n",
              "      border-right-color: var(--fill-color);\n",
              "      border-top-color: var(--fill-color);\n",
              "    }\n",
              "    60% {\n",
              "      border-color: transparent;\n",
              "      border-right-color: var(--fill-color);\n",
              "    }\n",
              "    80% {\n",
              "      border-color: transparent;\n",
              "      border-right-color: var(--fill-color);\n",
              "      border-bottom-color: var(--fill-color);\n",
              "    }\n",
              "    90% {\n",
              "      border-color: transparent;\n",
              "      border-bottom-color: var(--fill-color);\n",
              "    }\n",
              "  }\n",
              "</style>\n",
              "\n",
              "  <script>\n",
              "    async function quickchart(key) {\n",
              "      const quickchartButtonEl =\n",
              "        document.querySelector('#' + key + ' button');\n",
              "      quickchartButtonEl.disabled = true;  // To prevent multiple clicks.\n",
              "      quickchartButtonEl.classList.add('colab-df-spinner');\n",
              "      try {\n",
              "        const charts = await google.colab.kernel.invokeFunction(\n",
              "            'suggestCharts', [key], {});\n",
              "      } catch (error) {\n",
              "        console.error('Error during call to suggestCharts:', error);\n",
              "      }\n",
              "      quickchartButtonEl.classList.remove('colab-df-spinner');\n",
              "      quickchartButtonEl.classList.add('colab-df-quickchart-complete');\n",
              "    }\n",
              "    (() => {\n",
              "      let quickchartButtonEl =\n",
              "        document.querySelector('#df-2aaa1d09-a764-4e2e-95e1-70ab512e1850 button');\n",
              "      quickchartButtonEl.style.display =\n",
              "        google.colab.kernel.accessAllowed ? 'block' : 'none';\n",
              "    })();\n",
              "  </script>\n",
              "</div>\n",
              "\n",
              "  <div id=\"id_2e504b90-c307-49c0-a204-7f97c299e4c9\">\n",
              "    <style>\n",
              "      .colab-df-generate {\n",
              "        background-color: #E8F0FE;\n",
              "        border: none;\n",
              "        border-radius: 50%;\n",
              "        cursor: pointer;\n",
              "        display: none;\n",
              "        fill: #1967D2;\n",
              "        height: 32px;\n",
              "        padding: 0 0 0 0;\n",
              "        width: 32px;\n",
              "      }\n",
              "\n",
              "      .colab-df-generate:hover {\n",
              "        background-color: #E2EBFA;\n",
              "        box-shadow: 0px 1px 2px rgba(60, 64, 67, 0.3), 0px 1px 3px 1px rgba(60, 64, 67, 0.15);\n",
              "        fill: #174EA6;\n",
              "      }\n",
              "\n",
              "      [theme=dark] .colab-df-generate {\n",
              "        background-color: #3B4455;\n",
              "        fill: #D2E3FC;\n",
              "      }\n",
              "\n",
              "      [theme=dark] .colab-df-generate:hover {\n",
              "        background-color: #434B5C;\n",
              "        box-shadow: 0px 1px 3px 1px rgba(0, 0, 0, 0.15);\n",
              "        filter: drop-shadow(0px 1px 2px rgba(0, 0, 0, 0.3));\n",
              "        fill: #FFFFFF;\n",
              "      }\n",
              "    </style>\n",
              "    <button class=\"colab-df-generate\" onclick=\"generateWithVariable('df')\"\n",
              "            title=\"Generate code using this dataframe.\"\n",
              "            style=\"display:none;\">\n",
              "\n",
              "  <svg xmlns=\"http://www.w3.org/2000/svg\" height=\"24px\"viewBox=\"0 0 24 24\"\n",
              "       width=\"24px\">\n",
              "    <path d=\"M7,19H8.4L18.45,9,17,7.55,7,17.6ZM5,21V16.75L18.45,3.32a2,2,0,0,1,2.83,0l1.4,1.43a1.91,1.91,0,0,1,.58,1.4,1.91,1.91,0,0,1-.58,1.4L9.25,21ZM18.45,9,17,7.55Zm-12,3A5.31,5.31,0,0,0,4.9,8.1,5.31,5.31,0,0,0,1,6.5,5.31,5.31,0,0,0,4.9,4.9,5.31,5.31,0,0,0,6.5,1,5.31,5.31,0,0,0,8.1,4.9,5.31,5.31,0,0,0,12,6.5,5.46,5.46,0,0,0,6.5,12Z\"/>\n",
              "  </svg>\n",
              "    </button>\n",
              "    <script>\n",
              "      (() => {\n",
              "      const buttonEl =\n",
              "        document.querySelector('#id_2e504b90-c307-49c0-a204-7f97c299e4c9 button.colab-df-generate');\n",
              "      buttonEl.style.display =\n",
              "        google.colab.kernel.accessAllowed ? 'block' : 'none';\n",
              "\n",
              "      buttonEl.onclick = () => {\n",
              "        google.colab.notebook.generateWithVariable('df');\n",
              "      }\n",
              "      })();\n",
              "    </script>\n",
              "  </div>\n",
              "\n",
              "    </div>\n",
              "  </div>\n"
            ],
            "application/vnd.google.colaboratory.intrinsic+json": {
              "type": "dataframe",
              "variable_name": "df",
              "summary": "{\n  \"name\": \"df\",\n  \"rows\": 9,\n  \"fields\": [\n    {\n      \"column\": \"headline_main\",\n      \"properties\": {\n        \"dtype\": \"string\",\n        \"num_unique_values\": 9,\n        \"samples\": [\n          \"Front Page 7 -- No Title\",\n          \"GARDEN BOUTS CANCELED; Mauriello Says He Could Not Be Ready on Nov. 3\",\n          \"Brooklyn Routs Yeshiva\"\n        ],\n        \"semantic_type\": \"\",\n        \"description\": \"\"\n      }\n    },\n    {\n      \"column\": \"headline_kicker\",\n      \"properties\": {\n        \"dtype\": \"category\",\n        \"num_unique_values\": 1,\n        \"samples\": [\n          \"1\"\n        ],\n        \"semantic_type\": \"\",\n        \"description\": \"\"\n      }\n    },\n    {\n      \"column\": \"pub_date\",\n      \"properties\": {\n        \"dtype\": \"object\",\n        \"num_unique_values\": 9,\n        \"samples\": [\n          \"1944-10-24T00:00:00Z\"\n        ],\n        \"semantic_type\": \"\",\n        \"description\": \"\"\n      }\n    },\n    {\n      \"column\": \"word_count\",\n      \"properties\": {\n        \"dtype\": \"number\",\n        \"std\": 826,\n        \"min\": 29,\n        \"max\": 2609,\n        \"num_unique_values\": 9,\n        \"samples\": [\n          29\n        ],\n        \"semantic_type\": \"\",\n        \"description\": \"\"\n      }\n    }\n  ]\n}"
            }
          },
          "metadata": {},
          "execution_count": 21
        }
      ],
      "source": [
        "df = pd.DataFrame(data['response']['docs'])\n",
        "df['headline_main'] = df['headline'].apply(lambda headline_dict: headline_dict['main'])\n",
        "df['headline_kicker'] = df['headline'].apply(lambda headline_dict: headline_dict['kicker'])\n",
        "df = df[['headline_main', 'headline_kicker', 'pub_date', 'word_count']]\n",
        "df"
      ]
    },
    {
      "cell_type": "code",
      "execution_count": null,
      "metadata": {
        "id": "uAfsz0pVrXiH"
      },
      "outputs": [],
      "source": [
        "# -EXPECTED OUTPUT-\n",
        "# a pandas DataFrame with 9 rows and 5 columns"
      ]
    },
    {
      "cell_type": "markdown",
      "metadata": {
        "id": "xfuA6M-_rXiH"
      },
      "source": [
        "This is a good general strategy for transforming nested JSON: create a DataFrame and then break out nested features into their own column features."
      ]
    },
    {
      "cell_type": "markdown",
      "metadata": {
        "id": "k9uA-mNrrXiH"
      },
      "source": [
        "## Outputting to JSON\n",
        "\n",
        "Finally, take a look at how you can write data back to JSON. Like loading, you first open a file (this time in write mode) and use the json package to interact with that file object. Only instead of `json.load` to load the contents of the file into a Python object, you call `json.dump` to write the contents of the Python object into the file.\n",
        "\n",
        "> In the cell below, type the following code to write the data to a JSON file:\n",
        "\n",
        "```\n",
        "with open('doc_info_list.json', 'w') as f:\n",
        "    json.dump(doc_info_list, f)\n",
        "```"
      ]
    },
    {
      "cell_type": "code",
      "execution_count": 22,
      "metadata": {
        "id": "F_I5bvogrXiH"
      },
      "outputs": [],
      "source": [
        "with open('doc_info_list.json', 'w') as f:\n",
        "    json.dump(doc_info_list, f)"
      ]
    },
    {
      "cell_type": "markdown",
      "metadata": {
        "id": "9jLIpmwdrXiH"
      },
      "source": [
        "Then if we want to load that cleaned dataset for future use, we can open that new file:\n",
        "\n",
        "> In the cell below, type the following code to load the file we just created:\n",
        "\n",
        "```\n",
        "with open('doc_info_list.json') as f:\n",
        "    doc_info_list_from_disk = json.load(f)\n",
        "```"
      ]
    },
    {
      "cell_type": "code",
      "execution_count": 23,
      "metadata": {
        "id": "PiMw6hFsrXiH"
      },
      "outputs": [],
      "source": [
        "with open('doc_info_list.json') as f:\n",
        "    doc_info_list_from_disk = json.load(f)"
      ]
    },
    {
      "cell_type": "markdown",
      "metadata": {
        "id": "JenjNxJ3rXiH"
      },
      "source": [
        "The new file should contain identical information to the original Python variable:\n",
        "\n",
        "> In the cell below, type the following code to check that the data in `doc_info_list` is the same as the data in `doc_info_list_from_disk`:\n",
        "\n",
        "```\n",
        "doc_info_list_from_disk == doc_info_list\n",
        "```"
      ]
    },
    {
      "cell_type": "code",
      "execution_count": 24,
      "metadata": {
        "id": "igG6ICngrXiI",
        "outputId": "6fb7a924-c49d-4ad4-bd9b-764a3ad7bbb8",
        "colab": {
          "base_uri": "https://localhost:8080/"
        }
      },
      "outputs": [
        {
          "output_type": "execute_result",
          "data": {
            "text/plain": [
              "True"
            ]
          },
          "metadata": {},
          "execution_count": 24
        }
      ],
      "source": [
        "doc_info_list_from_disk == doc_info_list"
      ]
    },
    {
      "cell_type": "code",
      "execution_count": null,
      "metadata": {
        "id": "QQb1xZmqrXiI"
      },
      "outputs": [],
      "source": [
        "# -EXPECTED OUTPUT-\n",
        "# True"
      ]
    },
    {
      "cell_type": "markdown",
      "metadata": {
        "id": "gRt8alGDrXiI"
      },
      "source": [
        "## Summary\n",
        "There you have it. In this, you practiced using JSON some more, this time interpreting an example schema diagram in order to retrieve information. You also looked at a general procedure for transforming nested data to pandas DataFrames (create a DataFrame, and then break apart nested data using lambda functions to create additional columns). Finally, you also took a brief look at saving data to JSON files."
      ]
    }
  ],
  "metadata": {
    "kernelspec": {
      "display_name": "Python 3",
      "language": "python",
      "name": "python3"
    },
    "language_info": {
      "codemirror_mode": {
        "name": "ipython",
        "version": 3
      },
      "file_extension": ".py",
      "mimetype": "text/x-python",
      "name": "python",
      "nbconvert_exporter": "python",
      "pygments_lexer": "ipython3",
      "version": "3.8.5"
    },
    "toc": {
      "base_numbering": 1,
      "nav_menu": {},
      "number_sections": true,
      "sideBar": true,
      "skip_h1_title": false,
      "title_cell": "Table of Contents",
      "title_sidebar": "Contents",
      "toc_cell": false,
      "toc_position": {},
      "toc_section_display": true,
      "toc_window_display": false
    },
    "colab": {
      "provenance": []
    }
  },
  "nbformat": 4,
  "nbformat_minor": 0
}